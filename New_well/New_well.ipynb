{
  "cells": [
    {
      "cell_type": "markdown",
      "metadata": {
        "id": "DzxRBnXxGYBg"
      },
      "source": [
        "# Выбор локации для скважины"
      ]
    },
    {
      "cell_type": "markdown",
      "metadata": {
        "id": "XGatj4VfGYBh"
      },
      "source": [
        "Добывающей компании нужно решить, где бурить новую скважину.\n",
        "\n",
        "Нам предоставлены пробы нефти в трёх регионах: в каждом 10 000 месторождений, где измерили качество нефти и объём её запасов. Построим модель машинного обучения, которая поможет определить регион, где добыча принесёт наибольшую прибыль. Проанализируем возможную прибыль и риски техникой *Bootstrap.*\n",
        "\n",
        "Шаги для выбора локации:\n",
        "\n",
        "- В избранном регионе найдем месторождения, для каждого определим значения признаков;\n",
        "- Строим модель и оценивают объём запасов;\n",
        "- Выбираем месторождения с самым высокими оценками значений. Количество месторождений зависит от бюджета компании и стоимости разработки одной скважины;\n",
        "- Прибыль равна суммарной прибыли отобранных месторождений."
      ]
    },
    {
      "cell_type": "markdown",
      "metadata": {
        "id": "t0WWsx24GYBk"
      },
      "source": [
        "## Загрузка и подготовка данных"
      ]
    },
    {
      "cell_type": "code",
      "execution_count": null,
      "metadata": {
        "id": "6xkwfHN2GYBl"
      },
      "outputs": [],
      "source": [
        "import pandas as pd\n",
        "import numpy as np\n",
        "import matplotlib.pyplot as plt\n",
        "import seaborn as sns\n",
        "from sklearn.model_selection import train_test_split\n",
        "from sklearn.linear_model import LinearRegression\n",
        "from sklearn.metrics import mean_squared_error\n",
        "from scipy import stats as st"
      ]
    },
    {
      "cell_type": "code",
      "source": [
        "#размер графиков\n",
        "sns.set(rc={\"figure.figsize\":(12, 6)})\n",
        "#темная тема для графиков\n",
        "plt.style.use('dark_background')"
      ],
      "metadata": {
        "id": "UEQt1APhQRVr"
      },
      "execution_count": null,
      "outputs": []
    },
    {
      "cell_type": "code",
      "execution_count": null,
      "metadata": {
        "id": "tCDTHeJLGYBn"
      },
      "outputs": [],
      "source": [
        "geo_data_0 = pd.read_csv('https://code.s3.yandex.net/datasets/geo_data_0.csv')\n",
        "geo_data_1 = pd.read_csv('https://code.s3.yandex.net/datasets/geo_data_1.csv')\n",
        "geo_data_2 = pd.read_csv('https://code.s3.yandex.net/datasets/geo_data_2.csv')"
      ]
    },
    {
      "cell_type": "markdown",
      "metadata": {
        "id": "FsMx4LYQGYBo"
      },
      "source": [
        "<b>Описание данных:</b> <br>\n",
        "id — уникальный идентификатор скважины;<br>\n",
        "f0, f1, f2 — три признака точек (неважно, что они означают, но сами признаки значимы);<br>\n",
        "product — объём запасов в скважине (тыс. баррелей)<br>"
      ]
    },
    {
      "cell_type": "markdown",
      "source": [
        "Создадим функцию чтобы посмотреть данные нащих датасетов"
      ],
      "metadata": {
        "id": "UcygdSymR59n"
      }
    },
    {
      "cell_type": "code",
      "source": [
        "def research(df):\n",
        "    df.info()\n",
        "    sns.distplot(a=df['product'], bins=10, hist=True, kde=False, rug=False)\n",
        "    plt.title(\"Гисторгамма запасов нефти по ргеиону\")\n",
        "    plt.xlabel('Объём запасов нефти в скважине (тыс. баррелей)')\n",
        "    plt.show()"
      ],
      "metadata": {
        "id": "vRBIhlajR38n"
      },
      "execution_count": null,
      "outputs": []
    },
    {
      "cell_type": "markdown",
      "source": [
        "Регион №1"
      ],
      "metadata": {
        "id": "ZnySABaCS5dL"
      }
    },
    {
      "cell_type": "code",
      "source": [
        "research(geo_data_0)"
      ],
      "metadata": {
        "colab": {
          "base_uri": "https://localhost:8080/",
          "height": 637
        },
        "id": "ZEpRq_0GSmef",
        "outputId": "06ed94b7-f6b6-405b-d614-c3bd7e847606"
      },
      "execution_count": null,
      "outputs": [
        {
          "output_type": "stream",
          "name": "stdout",
          "text": [
            "<class 'pandas.core.frame.DataFrame'>\n",
            "RangeIndex: 100000 entries, 0 to 99999\n",
            "Data columns (total 5 columns):\n",
            " #   Column   Non-Null Count   Dtype  \n",
            "---  ------   --------------   -----  \n",
            " 0   id       100000 non-null  object \n",
            " 1   f0       100000 non-null  float64\n",
            " 2   f1       100000 non-null  float64\n",
            " 3   f2       100000 non-null  float64\n",
            " 4   product  100000 non-null  float64\n",
            "dtypes: float64(4), object(1)\n",
            "memory usage: 3.8+ MB\n"
          ]
        },
        {
          "output_type": "display_data",
          "data": {
            "text/plain": [
              "<Figure size 864x432 with 1 Axes>"
            ],
            "image/png": "[encoded data removed]"
          },
          "metadata": {}
        }
      ]
    },
    {
      "cell_type": "markdown",
      "source": [
        "Регион №2"
      ],
      "metadata": {
        "id": "mr7j_Pz1TFcf"
      }
    },
    {
      "cell_type": "code",
      "source": [
        "research(geo_data_1)"
      ],
      "metadata": {
        "colab": {
          "base_uri": "https://localhost:8080/",
          "height": 695
        },
        "id": "-P9brrANTVuV",
        "outputId": "a9f66fb2-3627-41bc-8565-f9cbd2ce9558"
      },
      "execution_count": null,
      "outputs": [
        {
          "output_type": "stream",
          "name": "stdout",
          "text": [
            "<class 'pandas.core.frame.DataFrame'>\n",
            "RangeIndex: 100000 entries, 0 to 99999\n",
            "Data columns (total 5 columns):\n",
            " #   Column   Non-Null Count   Dtype  \n",
            "---  ------   --------------   -----  \n",
            " 0   id       100000 non-null  object \n",
            " 1   f0       100000 non-null  float64\n",
            " 2   f1       100000 non-null  float64\n",
            " 3   f2       100000 non-null  float64\n",
            " 4   product  100000 non-null  float64\n",
            "dtypes: float64(4), object(1)\n",
            "memory usage: 3.8+ MB\n"
          ]
        },
        {
          "output_type": "stream",
          "name": "stderr",
          "text": [
            "/usr/local/lib/python3.7/dist-packages/seaborn/distributions.py:2619: FutureWarning: `distplot` is a deprecated function and will be removed in a future version. Please adapt your code to use either `displot` (a figure-level function with similar flexibility) or `histplot` (an axes-level function for histograms).\n",
            "  warnings.warn(msg, FutureWarning)\n"
          ]
        },
        {
          "output_type": "display_data",
          "data": {
            "text/plain": [
              "<Figure size 864x432 with 1 Axes>"
            ],
            "image/png": "[encoded data removed]"
          },
          "metadata": {}
        }
      ]
    },
    {
      "cell_type": "markdown",
      "source": [
        "Регион №3"
      ],
      "metadata": {
        "id": "abJpMrs9TGjs"
      }
    },
    {
      "cell_type": "code",
      "source": [
        "research(geo_data_2)"
      ],
      "metadata": {
        "colab": {
          "base_uri": "https://localhost:8080/",
          "height": 637
        },
        "id": "MPVObEyKTWbf",
        "outputId": "cfa5b879-b484-4d49-c8b5-51b5845fffaf"
      },
      "execution_count": null,
      "outputs": [
        {
          "output_type": "stream",
          "name": "stdout",
          "text": [
            "<class 'pandas.core.frame.DataFrame'>\n",
            "RangeIndex: 100000 entries, 0 to 99999\n",
            "Data columns (total 5 columns):\n",
            " #   Column   Non-Null Count   Dtype  \n",
            "---  ------   --------------   -----  \n",
            " 0   id       100000 non-null  object \n",
            " 1   f0       100000 non-null  float64\n",
            " 2   f1       100000 non-null  float64\n",
            " 3   f2       100000 non-null  float64\n",
            " 4   product  100000 non-null  float64\n",
            "dtypes: float64(4), object(1)\n",
            "memory usage: 3.8+ MB\n"
          ]
        },
        {
          "output_type": "display_data",
          "data": {
            "text/plain": [
              "<Figure size 864x432 with 1 Axes>"
            ],
            "image/png": "[encoded data removed]"
          },
          "metadata": {}
        }
      ]
    },
    {
      "cell_type": "markdown",
      "metadata": {
        "id": "hAfb0OOAGYBt"
      },
      "source": [
        "**Вывод по разделу:**\n",
        "\n",
        "Данные загружены. Пропуски отсутствуют. У geo_data_1 не нормальное распределение объёмов запасов"
      ]
    },
    {
      "cell_type": "markdown",
      "metadata": {
        "id": "1crv3XygGYBv"
      },
      "source": [
        "## Обучение и проверка модели"
      ]
    },
    {
      "cell_type": "markdown",
      "metadata": {
        "id": "mTfZoMGQGYBv"
      },
      "source": [
        "Разделим данные на обучающие и валидационные выборки, обучим моедли, рассчитаем средний запас сырья и RMSE."
      ]
    },
    {
      "cell_type": "code",
      "execution_count": null,
      "metadata": {
        "id": "bl7pemUWGYBv"
      },
      "outputs": [],
      "source": [
        "geo_list = [geo_data_0, geo_data_1, geo_data_2]\n",
        "for i in range(len(geo_list)):\n",
        "    geo_list[i] = geo_list[i].drop(['id'], axis=1, inplace=True)"
      ]
    },
    {
      "cell_type": "code",
      "execution_count": null,
      "metadata": {
        "id": "fclQTFIgGYBv"
      },
      "outputs": [],
      "source": [
        "def ml(df, name):\n",
        "    X = df.drop(['product'], axis=1)\n",
        "    y = df['product']\n",
        "    X_train, X_valid, y_train, y_valid = train_test_split(X, y, test_size = 0.25, random_state=12345)\n",
        "    model = LinearRegression()\n",
        "    model.fit(X_train, y_train)\n",
        "    predicted_valid = model.predict(X_valid)\n",
        "    mse = mean_squared_error(y_valid, predicted_valid)\n",
        "    rmse = mse ** 0.5\n",
        "    print(\"Предсказанный средний запас сырья в регионе\", name, ':', predicted_valid.mean(),';', \"RMSE =\", rmse )\n",
        "    return (model, predicted_valid, y_valid)"
      ]
    },
    {
      "cell_type": "code",
      "execution_count": null,
      "metadata": {
        "colab": {
          "base_uri": "https://localhost:8080/"
        },
        "id": "cOkZC4edGYBw",
        "outputId": "c2c311ba-c6c2-42e8-9604-925001ef9ace"
      },
      "outputs": [
        {
          "output_type": "stream",
          "name": "stdout",
          "text": [
            "Предсказанный средний запас сырья в регионе 1 : 92.59256778438035 ; RMSE = 37.5794217150813\n"
          ]
        }
      ],
      "source": [
        "model_0, predicted_valid_0, y_valid_0 = ml(geo_data_0, '1')"
      ]
    },
    {
      "cell_type": "code",
      "execution_count": null,
      "metadata": {
        "colab": {
          "base_uri": "https://localhost:8080/"
        },
        "id": "Gg876jvuGYBw",
        "outputId": "79ec583e-7cbd-4c05-8b6c-3895ea56e9c6"
      },
      "outputs": [
        {
          "output_type": "stream",
          "name": "stdout",
          "text": [
            "Предсказанный средний запас сырья в регионе 2 : 68.728546895446 ; RMSE = 0.893099286775617\n"
          ]
        }
      ],
      "source": [
        "model_1, predicted_valid_1, y_valid_1 = ml(geo_data_1, '2')"
      ]
    },
    {
      "cell_type": "code",
      "execution_count": null,
      "metadata": {
        "colab": {
          "base_uri": "https://localhost:8080/"
        },
        "id": "R43zLiD8GYBw",
        "outputId": "52cf1d6d-c911-45ff-b911-8435d234bd7e"
      },
      "outputs": [
        {
          "output_type": "stream",
          "name": "stdout",
          "text": [
            "Предсказанный средний запас сырья в регионе 3 : 94.96504596800489 ; RMSE = 40.02970873393434\n"
          ]
        }
      ],
      "source": [
        "model_2, predicted_valid_2, y_valid_2 = ml(geo_data_2, '3')"
      ]
    },
    {
      "cell_type": "markdown",
      "metadata": {
        "id": "vpIZMGh9GYBx"
      },
      "source": [
        "<b>Вывод:</b><br>\n",
        "Тремя моедлями предсказаны средние запасы сырья в трёх регионах. Максималоьное значение в регионе номер 3. В региное номер 2 минимальное среднее значение, но и минимальное знчение корня средней квадратичной ошибки. "
      ]
    },
    {
      "cell_type": "markdown",
      "metadata": {
        "id": "41xBiXEsGYBz"
      },
      "source": [
        "## Подготовка к расчёту прибыли"
      ]
    },
    {
      "cell_type": "markdown",
      "metadata": {
        "id": "FE2-Mt4EGYBz"
      },
      "source": [
        "Рассчитаем достаточный объём сырья для безубыточной разработки новой скважины."
      ]
    },
    {
      "cell_type": "code",
      "execution_count": null,
      "metadata": {
        "id": "M4jVNdakGYBz"
      },
      "outputs": [],
      "source": [
        "BUDGET = 10**10\n",
        "INCOME = 450000\n",
        "BOREHOLES = 200"
      ]
    },
    {
      "cell_type": "code",
      "execution_count": null,
      "metadata": {
        "scrolled": true,
        "colab": {
          "base_uri": "https://localhost:8080/"
        },
        "id": "brGQ29dGGYBz",
        "outputId": "c7eff508-488c-496c-822d-3c7edcabfc12"
      },
      "outputs": [
        {
          "output_type": "stream",
          "name": "stdout",
          "text": [
            "Точка безубыточности 111.11\n"
          ]
        }
      ],
      "source": [
        "limit = BUDGET / (INCOME*BOREHOLES)\n",
        "print(f'Точка безубыточности {round(limit,2)}')"
      ]
    },
    {
      "cell_type": "markdown",
      "metadata": {
        "id": "HXHG57hkGYB0"
      },
      "source": [
        "Полученное знгачение выше, чем запасы нефти предсказанные моделью."
      ]
    },
    {
      "cell_type": "markdown",
      "metadata": {
        "id": "jbU7iC_JGYB0"
      },
      "source": [
        "## Расчёт прибыли и рисков "
      ]
    },
    {
      "cell_type": "markdown",
      "metadata": {
        "id": "1ZUKwjIhGYB1"
      },
      "source": [
        "Напишеv функцию для расчёта прибыли по предсказаниям модели:"
      ]
    },
    {
      "cell_type": "code",
      "execution_count": null,
      "metadata": {
        "id": "cJIcp0JWGYB1"
      },
      "outputs": [],
      "source": [
        "predicted_valid_0 = pd.Series(predicted_valid_0)\n",
        "predicted_valid_1 = pd.Series(predicted_valid_1)\n",
        "predicted_valid_2 = pd.Series(predicted_valid_2)"
      ]
    },
    {
      "cell_type": "code",
      "execution_count": null,
      "metadata": {
        "id": "LAiBsYVoGYB1"
      },
      "outputs": [],
      "source": [
        "y_valid_0 = y_valid_0.reset_index(drop=True)\n",
        "y_valid_1 = y_valid_1.reset_index(drop=True)\n",
        "y_valid_2 = y_valid_2.reset_index(drop=True)"
      ]
    },
    {
      "cell_type": "code",
      "execution_count": null,
      "metadata": {
        "id": "NyqX-8vtGYB2"
      },
      "outputs": [],
      "source": [
        "def profit(target, predictions, count):\n",
        "    predictions_sorted = predictions.sort_values(ascending=False)\n",
        "    selected = target[predictions_sorted.index][:count]\n",
        "    return (selected.sum()*INCOME - BUDGET)/10**9\n",
        "\n",
        "state = np.random.RandomState(12345)\n",
        "def interval_risk(predictions, target):\n",
        "    values = []\n",
        "    for _ in range(1000):\n",
        "        predictions_subsample = predictions.sample(n=500, replace=True, random_state=state)\n",
        "        target_subsample = target[predictions_subsample.index]\n",
        "        values.append(profit(target_subsample, predictions_subsample, 200))\n",
        "\n",
        "    values = pd.Series(values)\n",
        "    lower = values.quantile(0.025)\n",
        "    higher = values.quantile(0.975)\n",
        "    confidence_interval = st.t.interval(0.95, len(values)-1, loc=values.mean(), scale=values.sem())\n",
        "    print(\"Средняя прибыль от 200 лучших скважин:\", round(values.mean(), 2), \"млрд.руб.\")\n",
        "    print(\"Доверительный интервал 95%:\", confidence_interval, \"млрд.руб.\")\n",
        "    print(\"Квантиль 2.5%\", round(lower, 2), \"млрд.руб.\")\n",
        "    print(\"Квантиль 97.5%\", round(higher, 2), \"млрд.руб.\")\n",
        "    print(\"Риск:\", st.percentileofscore(values, 0), \"%\")\n",
        "    return (values.plot(kind='hist', grid=True, bins=15), plt.show())"
      ]
    },
    {
      "cell_type": "markdown",
      "source": [
        "Регион №1"
      ],
      "metadata": {
        "id": "5FI7R87bVmj3"
      }
    },
    {
      "cell_type": "code",
      "execution_count": null,
      "metadata": {
        "colab": {
          "base_uri": "https://localhost:8080/",
          "height": 491
        },
        "id": "W3n6cMEsGYB3",
        "outputId": "fc5fe0de-523b-4538-c0ea-92fb8bd561e4"
      },
      "outputs": [
        {
          "output_type": "stream",
          "name": "stdout",
          "text": [
            "Средняя прибыль от 200 лучших скважин: 0.43 млрд.руб.\n",
            "Доверительный интервал 95%: (0.4087322070686986, 0.4431448467524861) млрд.руб.\n",
            "Квантиль 2.5% -0.1 млрд.руб.\n",
            "Квантиль 97.5% 0.95 млрд.руб.\n",
            "Риск: 6.0 %\n"
          ]
        },
        {
          "output_type": "display_data",
          "data": {
            "text/plain": [
              "<Figure size 864x432 with 1 Axes>"
            ],
            "image/png": "[encoded data removed]"
          },
          "metadata": {}
        },
        {
          "output_type": "execute_result",
          "data": {
            "text/plain": [
              "(<matplotlib.axes._subplots.AxesSubplot at 0x7f37dc606150>, None)"
            ]
          },
          "metadata": {},
          "execution_count": 50
        }
      ],
      "source": [
        "interval_risk(predicted_valid_0, y_valid_0)"
      ]
    },
    {
      "cell_type": "markdown",
      "source": [
        "Регион №2"
      ],
      "metadata": {
        "id": "C8Pzwq7-Vp9E"
      }
    },
    {
      "cell_type": "code",
      "execution_count": null,
      "metadata": {
        "colab": {
          "base_uri": "https://localhost:8080/",
          "height": 491
        },
        "id": "k2ZT5zpRGYB4",
        "outputId": "c4c3c451-1d16-4c77-adb9-4cc854c4cf08"
      },
      "outputs": [
        {
          "output_type": "stream",
          "name": "stdout",
          "text": [
            "Средняя прибыль от 200 лучших скважин: 0.52 млрд.руб.\n",
            "Доверительный интервал 95%: (0.5052498815766217, 0.531269105818028) млрд.руб.\n",
            "Квантиль 2.5% 0.13 млрд.руб.\n",
            "Квантиль 97.5% 0.95 млрд.руб.\n",
            "Риск: 0.3 %\n"
          ]
        },
        {
          "output_type": "display_data",
          "data": {
            "text/plain": [
              "<Figure size 864x432 with 1 Axes>"
            ],
            "image/png": "[encoded data removed]"
          },
          "metadata": {}
        },
        {
          "output_type": "execute_result",
          "data": {
            "text/plain": [
              "(<matplotlib.axes._subplots.AxesSubplot at 0x7f37de1d3ad0>, None)"
            ]
          },
          "metadata": {},
          "execution_count": 43
        }
      ],
      "source": [
        "interval_risk(predicted_valid_1, y_valid_1)"
      ]
    },
    {
      "cell_type": "markdown",
      "source": [
        "Регион №3"
      ],
      "metadata": {
        "id": "SGrivR8WVrqp"
      }
    },
    {
      "cell_type": "code",
      "execution_count": null,
      "metadata": {
        "colab": {
          "base_uri": "https://localhost:8080/",
          "height": 491
        },
        "id": "eqC6nDKYGYB4",
        "outputId": "a09b59b3-7720-4797-ce41-85ceba2bf078"
      },
      "outputs": [
        {
          "output_type": "stream",
          "name": "stdout",
          "text": [
            "Средняя прибыль от 200 лучших скважин: 0.42 млрд.руб.\n",
            "Доверительный интервал 95%: (0.40252870365036153, 0.4378593070377387) млрд.руб.\n",
            "Квантиль 2.5% -0.12 млрд.руб.\n",
            "Квантиль 97.5% 0.99 млрд.руб.\n",
            "Риск: 6.2 %\n"
          ]
        },
        {
          "output_type": "display_data",
          "data": {
            "text/plain": [
              "<Figure size 864x432 with 1 Axes>"
            ],
            "image/png": "[encoded data removed]"
          },
          "metadata": {}
        },
        {
          "output_type": "execute_result",
          "data": {
            "text/plain": [
              "(<matplotlib.axes._subplots.AxesSubplot at 0x7f37ddfa9090>, None)"
            ]
          },
          "metadata": {},
          "execution_count": 44
        }
      ],
      "source": [
        "interval_risk(predicted_valid_2, y_valid_2)"
      ]
    },
    {
      "cell_type": "markdown",
      "metadata": {
        "id": "07sSLsSWGYB5"
      },
      "source": [
        "<b>Вывод:</b><br>\n",
        "\n",
        "С помощью техники Bootstrap с 1000 выборок, было найдено распределение прибыли.<br>\n",
        "Определена средняя прибыль, 95%-й доверительный интервал и риск убытков для регионов<br>\n",
        "Наиболее перспективный регион для разработки скважин №2. У него наилучшая средняя прибыль и минимальный риск 0,3%."
      ]
    }
  ],
  "metadata": {
    "ExecuteTimeLog": [
      {
        "duration": 442,
        "start_time": "2022-06-30T10:45:00.919Z"
      },
      {
        "duration": 364,
        "start_time": "2022-06-30T10:45:46.461Z"
      },
      {
        "duration": 518,
        "start_time": "2022-06-30T10:46:04.564Z"
      },
      {
        "duration": 21,
        "start_time": "2022-06-30T10:48:14.132Z"
      },
      {
        "duration": 9,
        "start_time": "2022-06-30T10:48:22.343Z"
      },
      {
        "duration": 15,
        "start_time": "2022-06-30T10:48:30.831Z"
      },
      {
        "duration": 9,
        "start_time": "2022-06-30T10:49:00.150Z"
      },
      {
        "duration": 15,
        "start_time": "2022-06-30T10:49:11.079Z"
      },
      {
        "duration": 10,
        "start_time": "2022-06-30T10:49:28.431Z"
      },
      {
        "duration": 13,
        "start_time": "2022-06-30T10:49:31.128Z"
      },
      {
        "duration": 804,
        "start_time": "2022-06-30T10:50:39.609Z"
      },
      {
        "duration": 71,
        "start_time": "2022-06-30T10:50:49.008Z"
      },
      {
        "duration": 145,
        "start_time": "2022-06-30T10:50:54.911Z"
      },
      {
        "duration": 196,
        "start_time": "2022-06-30T10:51:12.696Z"
      },
      {
        "duration": 155,
        "start_time": "2022-06-30T10:51:27.981Z"
      },
      {
        "duration": 216,
        "start_time": "2022-06-30T10:51:37.129Z"
      },
      {
        "duration": 143,
        "start_time": "2022-06-30T10:51:41.417Z"
      },
      {
        "duration": 9,
        "start_time": "2022-06-30T10:57:42.677Z"
      },
      {
        "duration": 160,
        "start_time": "2022-06-30T10:58:38.383Z"
      },
      {
        "duration": 8,
        "start_time": "2022-06-30T10:59:21.639Z"
      },
      {
        "duration": 2,
        "start_time": "2022-06-30T10:59:38.216Z"
      },
      {
        "duration": 160,
        "start_time": "2022-06-30T10:59:41.720Z"
      },
      {
        "duration": 139,
        "start_time": "2022-06-30T10:59:47.970Z"
      },
      {
        "duration": 155,
        "start_time": "2022-06-30T10:59:54.312Z"
      },
      {
        "duration": 135,
        "start_time": "2022-06-30T10:59:58.807Z"
      },
      {
        "duration": 248,
        "start_time": "2022-06-30T11:00:24.539Z"
      },
      {
        "duration": 169,
        "start_time": "2022-06-30T11:00:31.240Z"
      },
      {
        "duration": 189,
        "start_time": "2022-06-30T11:00:36.608Z"
      },
      {
        "duration": 200,
        "start_time": "2022-06-30T11:00:40.231Z"
      },
      {
        "duration": 153,
        "start_time": "2022-06-30T11:00:45.295Z"
      },
      {
        "duration": 142,
        "start_time": "2022-06-30T11:00:59.025Z"
      },
      {
        "duration": 152,
        "start_time": "2022-06-30T11:01:02.161Z"
      },
      {
        "duration": 15,
        "start_time": "2022-06-30T11:16:08.006Z"
      },
      {
        "duration": 11,
        "start_time": "2022-06-30T11:16:24.399Z"
      },
      {
        "duration": 9,
        "start_time": "2022-06-30T11:17:13.743Z"
      },
      {
        "duration": 20,
        "start_time": "2022-06-30T11:18:48.297Z"
      },
      {
        "duration": 30,
        "start_time": "2022-06-30T11:19:56.076Z"
      },
      {
        "duration": 12,
        "start_time": "2022-06-30T11:20:03.210Z"
      },
      {
        "duration": 2,
        "start_time": "2022-06-30T11:21:29.556Z"
      },
      {
        "duration": 726,
        "start_time": "2022-06-30T11:25:54.999Z"
      },
      {
        "duration": 3,
        "start_time": "2022-06-30T11:29:42.203Z"
      },
      {
        "duration": 136,
        "start_time": "2022-06-30T11:37:24.642Z"
      },
      {
        "duration": 25,
        "start_time": "2022-06-30T11:37:43.417Z"
      },
      {
        "duration": 109,
        "start_time": "2022-06-30T11:37:47.162Z"
      },
      {
        "duration": 506,
        "start_time": "2022-06-30T11:37:55.179Z"
      },
      {
        "duration": 2,
        "start_time": "2022-06-30T11:39:39.101Z"
      },
      {
        "duration": 105,
        "start_time": "2022-06-30T11:39:46.325Z"
      },
      {
        "duration": 159,
        "start_time": "2022-06-30T11:40:18.229Z"
      },
      {
        "duration": 143,
        "start_time": "2022-06-30T11:40:56.350Z"
      },
      {
        "duration": 11,
        "start_time": "2022-06-30T11:41:00.181Z"
      },
      {
        "duration": 24,
        "start_time": "2022-06-30T11:41:05.590Z"
      },
      {
        "duration": 130,
        "start_time": "2022-06-30T11:41:11.959Z"
      },
      {
        "duration": 20,
        "start_time": "2022-06-30T11:42:03.750Z"
      },
      {
        "duration": 53,
        "start_time": "2022-06-30T11:42:05.911Z"
      },
      {
        "duration": 53,
        "start_time": "2022-06-30T11:44:08.105Z"
      },
      {
        "duration": 48,
        "start_time": "2022-06-30T11:44:20.984Z"
      },
      {
        "duration": 101,
        "start_time": "2022-06-30T11:45:19.225Z"
      },
      {
        "duration": 70,
        "start_time": "2022-06-30T11:45:33.490Z"
      },
      {
        "duration": 48,
        "start_time": "2022-06-30T11:45:39.995Z"
      },
      {
        "duration": 47,
        "start_time": "2022-07-01T08:38:00.918Z"
      },
      {
        "duration": 1470,
        "start_time": "2022-07-01T08:38:11.922Z"
      },
      {
        "duration": 745,
        "start_time": "2022-07-01T08:38:13.393Z"
      },
      {
        "duration": 13,
        "start_time": "2022-07-01T08:38:14.140Z"
      },
      {
        "duration": 15,
        "start_time": "2022-07-01T08:38:14.156Z"
      },
      {
        "duration": 10,
        "start_time": "2022-07-01T08:38:14.172Z"
      },
      {
        "duration": 19,
        "start_time": "2022-07-01T08:38:14.183Z"
      },
      {
        "duration": 32,
        "start_time": "2022-07-01T08:38:14.203Z"
      },
      {
        "duration": 18,
        "start_time": "2022-07-01T08:38:14.237Z"
      },
      {
        "duration": 158,
        "start_time": "2022-07-01T08:38:14.257Z"
      },
      {
        "duration": 162,
        "start_time": "2022-07-01T08:38:14.418Z"
      },
      {
        "duration": 141,
        "start_time": "2022-07-01T08:38:14.583Z"
      },
      {
        "duration": 23,
        "start_time": "2022-07-01T08:38:14.727Z"
      },
      {
        "duration": 88,
        "start_time": "2022-07-01T08:38:14.752Z"
      },
      {
        "duration": 183,
        "start_time": "2022-07-01T08:38:14.843Z"
      },
      {
        "duration": 107,
        "start_time": "2022-07-01T08:42:53.987Z"
      },
      {
        "duration": 11,
        "start_time": "2022-07-01T08:43:22.947Z"
      },
      {
        "duration": 19,
        "start_time": "2022-07-01T08:43:32.772Z"
      },
      {
        "duration": 21,
        "start_time": "2022-07-01T08:43:43.981Z"
      },
      {
        "duration": 1350,
        "start_time": "2022-07-01T08:44:00.074Z"
      },
      {
        "duration": 358,
        "start_time": "2022-07-01T08:44:01.426Z"
      },
      {
        "duration": 14,
        "start_time": "2022-07-01T08:44:01.785Z"
      },
      {
        "duration": 35,
        "start_time": "2022-07-01T08:44:01.801Z"
      },
      {
        "duration": 20,
        "start_time": "2022-07-01T08:44:01.837Z"
      },
      {
        "duration": 27,
        "start_time": "2022-07-01T08:44:01.859Z"
      },
      {
        "duration": 17,
        "start_time": "2022-07-01T08:44:01.888Z"
      },
      {
        "duration": 36,
        "start_time": "2022-07-01T08:44:01.906Z"
      },
      {
        "duration": 166,
        "start_time": "2022-07-01T08:44:01.944Z"
      },
      {
        "duration": 144,
        "start_time": "2022-07-01T08:44:02.113Z"
      },
      {
        "duration": 149,
        "start_time": "2022-07-01T08:44:02.258Z"
      },
      {
        "duration": 28,
        "start_time": "2022-07-01T08:44:02.409Z"
      },
      {
        "duration": 92,
        "start_time": "2022-07-01T08:44:02.438Z"
      },
      {
        "duration": 111,
        "start_time": "2022-07-01T08:44:02.532Z"
      },
      {
        "duration": 194,
        "start_time": "2022-07-01T08:44:02.645Z"
      },
      {
        "duration": 26,
        "start_time": "2022-07-01T08:45:01.962Z"
      },
      {
        "duration": 3,
        "start_time": "2022-07-01T09:16:13.416Z"
      },
      {
        "duration": 4,
        "start_time": "2022-07-01T09:16:23.495Z"
      },
      {
        "duration": 114,
        "start_time": "2022-07-01T09:16:33.303Z"
      },
      {
        "duration": 3,
        "start_time": "2022-07-01T09:16:38.704Z"
      },
      {
        "duration": 10,
        "start_time": "2022-07-01T09:22:19.350Z"
      },
      {
        "duration": 4,
        "start_time": "2022-07-01T09:22:23.175Z"
      },
      {
        "duration": 7,
        "start_time": "2022-07-01T09:22:23.830Z"
      },
      {
        "duration": 3,
        "start_time": "2022-07-01T09:22:55.438Z"
      },
      {
        "duration": 3,
        "start_time": "2022-07-01T09:22:55.941Z"
      },
      {
        "duration": 22,
        "start_time": "2022-07-01T09:26:07.682Z"
      },
      {
        "duration": 21,
        "start_time": "2022-07-01T09:26:27.441Z"
      },
      {
        "duration": 1625,
        "start_time": "2022-07-01T09:26:33.813Z"
      },
      {
        "duration": 491,
        "start_time": "2022-07-01T09:26:35.440Z"
      },
      {
        "duration": 21,
        "start_time": "2022-07-01T09:26:35.933Z"
      },
      {
        "duration": 30,
        "start_time": "2022-07-01T09:26:35.957Z"
      },
      {
        "duration": 14,
        "start_time": "2022-07-01T09:26:35.989Z"
      },
      {
        "duration": 31,
        "start_time": "2022-07-01T09:26:36.026Z"
      },
      {
        "duration": 13,
        "start_time": "2022-07-01T09:26:36.059Z"
      },
      {
        "duration": 29,
        "start_time": "2022-07-01T09:26:36.075Z"
      },
      {
        "duration": 265,
        "start_time": "2022-07-01T09:26:36.107Z"
      },
      {
        "duration": 254,
        "start_time": "2022-07-01T09:26:36.375Z"
      },
      {
        "duration": 195,
        "start_time": "2022-07-01T09:26:36.632Z"
      },
      {
        "duration": 26,
        "start_time": "2022-07-01T09:26:36.829Z"
      },
      {
        "duration": 98,
        "start_time": "2022-07-01T09:26:36.857Z"
      },
      {
        "duration": 86,
        "start_time": "2022-07-01T09:26:36.957Z"
      },
      {
        "duration": 184,
        "start_time": "2022-07-01T09:26:37.045Z"
      },
      {
        "duration": 125,
        "start_time": "2022-07-01T09:26:37.232Z"
      },
      {
        "duration": 61,
        "start_time": "2022-07-01T09:26:37.366Z"
      },
      {
        "duration": 101,
        "start_time": "2022-07-01T09:26:37.435Z"
      },
      {
        "duration": 136,
        "start_time": "2022-07-01T09:30:56.286Z"
      },
      {
        "duration": 1319,
        "start_time": "2022-07-01T09:32:24.132Z"
      },
      {
        "duration": 336,
        "start_time": "2022-07-01T09:32:25.453Z"
      },
      {
        "duration": 14,
        "start_time": "2022-07-01T09:32:25.791Z"
      },
      {
        "duration": 28,
        "start_time": "2022-07-01T09:32:25.807Z"
      },
      {
        "duration": 8,
        "start_time": "2022-07-01T09:32:25.837Z"
      },
      {
        "duration": 15,
        "start_time": "2022-07-01T09:32:25.847Z"
      },
      {
        "duration": 8,
        "start_time": "2022-07-01T09:32:25.864Z"
      },
      {
        "duration": 18,
        "start_time": "2022-07-01T09:32:25.873Z"
      },
      {
        "duration": 169,
        "start_time": "2022-07-01T09:32:25.892Z"
      },
      {
        "duration": 161,
        "start_time": "2022-07-01T09:32:26.063Z"
      },
      {
        "duration": 171,
        "start_time": "2022-07-01T09:32:26.227Z"
      },
      {
        "duration": 47,
        "start_time": "2022-07-01T09:32:26.401Z"
      },
      {
        "duration": 196,
        "start_time": "2022-07-01T09:32:26.450Z"
      },
      {
        "duration": 200,
        "start_time": "2022-07-01T09:32:26.648Z"
      },
      {
        "duration": 80,
        "start_time": "2022-07-01T09:32:26.850Z"
      },
      {
        "duration": 102,
        "start_time": "2022-07-01T09:32:26.932Z"
      },
      {
        "duration": 106,
        "start_time": "2022-07-01T09:33:33.064Z"
      },
      {
        "duration": 1370,
        "start_time": "2022-07-01T09:33:43.817Z"
      },
      {
        "duration": 361,
        "start_time": "2022-07-01T09:33:45.188Z"
      },
      {
        "duration": 14,
        "start_time": "2022-07-01T09:33:45.551Z"
      },
      {
        "duration": 17,
        "start_time": "2022-07-01T09:33:45.567Z"
      },
      {
        "duration": 12,
        "start_time": "2022-07-01T09:33:45.587Z"
      },
      {
        "duration": 37,
        "start_time": "2022-07-01T09:33:45.600Z"
      },
      {
        "duration": 9,
        "start_time": "2022-07-01T09:33:45.639Z"
      },
      {
        "duration": 17,
        "start_time": "2022-07-01T09:33:45.649Z"
      },
      {
        "duration": 159,
        "start_time": "2022-07-01T09:33:45.668Z"
      },
      {
        "duration": 143,
        "start_time": "2022-07-01T09:33:45.829Z"
      },
      {
        "duration": 136,
        "start_time": "2022-07-01T09:33:45.974Z"
      },
      {
        "duration": 116,
        "start_time": "2022-07-01T09:33:46.111Z"
      },
      {
        "duration": 200,
        "start_time": "2022-07-01T09:33:46.229Z"
      },
      {
        "duration": 119,
        "start_time": "2022-07-01T09:33:46.432Z"
      },
      {
        "duration": 77,
        "start_time": "2022-07-01T09:33:46.553Z"
      },
      {
        "duration": 9,
        "start_time": "2022-07-01T09:33:46.726Z"
      },
      {
        "duration": 57,
        "start_time": "2022-07-01T09:39:34.813Z"
      },
      {
        "duration": 4,
        "start_time": "2022-07-01T09:47:12.797Z"
      },
      {
        "duration": 108,
        "start_time": "2022-07-01T09:47:28.485Z"
      },
      {
        "duration": 9,
        "start_time": "2022-07-01T09:47:42.948Z"
      },
      {
        "duration": 3,
        "start_time": "2022-07-01T09:52:29.330Z"
      },
      {
        "duration": 12,
        "start_time": "2022-07-01T09:52:36.333Z"
      },
      {
        "duration": 11,
        "start_time": "2022-07-01T09:52:46.226Z"
      },
      {
        "duration": 9,
        "start_time": "2022-07-01T09:52:53.354Z"
      },
      {
        "duration": 9,
        "start_time": "2022-07-01T09:53:09.010Z"
      },
      {
        "duration": 11,
        "start_time": "2022-07-01T09:53:15.786Z"
      },
      {
        "duration": 5,
        "start_time": "2022-07-01T09:55:14.050Z"
      },
      {
        "duration": 8,
        "start_time": "2022-07-01T09:56:33.614Z"
      },
      {
        "duration": 4,
        "start_time": "2022-07-01T09:56:47.317Z"
      },
      {
        "duration": 7,
        "start_time": "2022-07-01T09:56:52.286Z"
      },
      {
        "duration": 8,
        "start_time": "2022-07-01T09:59:18.877Z"
      },
      {
        "duration": 16,
        "start_time": "2022-07-01T09:59:43.224Z"
      },
      {
        "duration": 4,
        "start_time": "2022-07-01T09:59:57.121Z"
      },
      {
        "duration": 9,
        "start_time": "2022-07-01T10:03:12.684Z"
      },
      {
        "duration": 4,
        "start_time": "2022-07-01T10:06:00.421Z"
      },
      {
        "duration": 53,
        "start_time": "2022-07-01T10:08:17.371Z"
      },
      {
        "duration": 3,
        "start_time": "2022-07-01T10:08:49.983Z"
      },
      {
        "duration": 3,
        "start_time": "2022-07-01T10:08:50.640Z"
      },
      {
        "duration": 4,
        "start_time": "2022-07-01T11:34:04.782Z"
      },
      {
        "duration": 4,
        "start_time": "2022-07-01T11:34:11.454Z"
      },
      {
        "duration": 4,
        "start_time": "2022-07-01T11:34:30.703Z"
      },
      {
        "duration": 5,
        "start_time": "2022-07-01T11:51:14.789Z"
      },
      {
        "duration": 3,
        "start_time": "2022-07-01T11:51:37.213Z"
      },
      {
        "duration": 5,
        "start_time": "2022-07-01T11:53:28.894Z"
      },
      {
        "duration": 4,
        "start_time": "2022-07-01T11:53:34.454Z"
      },
      {
        "duration": 4,
        "start_time": "2022-07-01T11:53:46.741Z"
      },
      {
        "duration": 6,
        "start_time": "2022-07-01T11:55:24.235Z"
      },
      {
        "duration": 4,
        "start_time": "2022-07-01T11:56:09.016Z"
      },
      {
        "duration": 17,
        "start_time": "2022-07-01T11:57:02.658Z"
      },
      {
        "duration": 9,
        "start_time": "2022-07-01T11:57:05.956Z"
      },
      {
        "duration": 47,
        "start_time": "2022-07-01T11:57:29.913Z"
      },
      {
        "duration": 3,
        "start_time": "2022-07-01T11:57:52.289Z"
      },
      {
        "duration": 12,
        "start_time": "2022-07-01T11:59:15.115Z"
      },
      {
        "duration": 5,
        "start_time": "2022-07-01T11:59:24.360Z"
      },
      {
        "duration": 14,
        "start_time": "2022-07-01T11:59:25.053Z"
      },
      {
        "duration": 4,
        "start_time": "2022-07-01T11:59:33.987Z"
      },
      {
        "duration": 6,
        "start_time": "2022-07-01T11:59:34.716Z"
      },
      {
        "duration": 5,
        "start_time": "2022-07-01T12:00:08.138Z"
      },
      {
        "duration": 9,
        "start_time": "2022-07-01T12:00:09.163Z"
      },
      {
        "duration": 3,
        "start_time": "2022-07-01T12:00:36.884Z"
      },
      {
        "duration": 7,
        "start_time": "2022-07-01T12:00:37.803Z"
      },
      {
        "duration": 3,
        "start_time": "2022-07-01T12:00:52.267Z"
      },
      {
        "duration": 10,
        "start_time": "2022-07-01T12:00:53.748Z"
      },
      {
        "duration": 5,
        "start_time": "2022-07-01T12:01:11.853Z"
      },
      {
        "duration": 4,
        "start_time": "2022-07-01T12:01:18.533Z"
      },
      {
        "duration": 9,
        "start_time": "2022-07-01T12:01:19.542Z"
      },
      {
        "duration": 4,
        "start_time": "2022-07-01T12:01:43.332Z"
      },
      {
        "duration": 9,
        "start_time": "2022-07-01T12:01:44.196Z"
      },
      {
        "duration": 4,
        "start_time": "2022-07-01T12:04:01.151Z"
      },
      {
        "duration": 6,
        "start_time": "2022-07-01T12:04:02.182Z"
      },
      {
        "duration": 2,
        "start_time": "2022-07-01T12:05:55.624Z"
      },
      {
        "duration": 81,
        "start_time": "2022-07-01T12:06:29.512Z"
      },
      {
        "duration": 3,
        "start_time": "2022-07-01T12:06:40.896Z"
      },
      {
        "duration": 13,
        "start_time": "2022-07-01T12:06:41.810Z"
      },
      {
        "duration": 13,
        "start_time": "2022-07-01T12:08:34.960Z"
      },
      {
        "duration": 12,
        "start_time": "2022-07-01T12:08:46.131Z"
      },
      {
        "duration": 4,
        "start_time": "2022-07-01T12:09:11.053Z"
      },
      {
        "duration": 16,
        "start_time": "2022-07-01T12:09:13.067Z"
      },
      {
        "duration": 4,
        "start_time": "2022-07-01T12:09:25.371Z"
      },
      {
        "duration": 13,
        "start_time": "2022-07-01T12:09:27.260Z"
      },
      {
        "duration": 3,
        "start_time": "2022-07-01T12:09:28.365Z"
      },
      {
        "duration": 5,
        "start_time": "2022-07-01T12:09:37.539Z"
      },
      {
        "duration": 5,
        "start_time": "2022-07-01T12:09:43.211Z"
      },
      {
        "duration": 121,
        "start_time": "2022-07-01T12:13:51.312Z"
      },
      {
        "duration": 34,
        "start_time": "2022-07-01T12:13:53.080Z"
      },
      {
        "duration": 77,
        "start_time": "2022-07-01T12:13:54.452Z"
      },
      {
        "duration": 17,
        "start_time": "2022-07-01T12:13:55.457Z"
      },
      {
        "duration": 1431,
        "start_time": "2022-07-01T12:14:04.613Z"
      },
      {
        "duration": 793,
        "start_time": "2022-07-01T12:14:06.047Z"
      },
      {
        "duration": 15,
        "start_time": "2022-07-01T12:14:06.844Z"
      },
      {
        "duration": 19,
        "start_time": "2022-07-01T12:14:06.861Z"
      },
      {
        "duration": 10,
        "start_time": "2022-07-01T12:14:06.881Z"
      },
      {
        "duration": 25,
        "start_time": "2022-07-01T12:14:06.893Z"
      },
      {
        "duration": 19,
        "start_time": "2022-07-01T12:14:06.933Z"
      },
      {
        "duration": 14,
        "start_time": "2022-07-01T12:14:06.954Z"
      },
      {
        "duration": 177,
        "start_time": "2022-07-01T12:14:06.970Z"
      },
      {
        "duration": 195,
        "start_time": "2022-07-01T12:14:07.150Z"
      },
      {
        "duration": 226,
        "start_time": "2022-07-01T12:14:07.351Z"
      },
      {
        "duration": 16,
        "start_time": "2022-07-01T12:14:07.579Z"
      },
      {
        "duration": 62,
        "start_time": "2022-07-01T12:14:07.597Z"
      },
      {
        "duration": 115,
        "start_time": "2022-07-01T12:14:07.733Z"
      },
      {
        "duration": 206,
        "start_time": "2022-07-01T12:14:07.850Z"
      },
      {
        "duration": 186,
        "start_time": "2022-07-01T12:14:08.059Z"
      },
      {
        "duration": 9,
        "start_time": "2022-07-01T12:14:08.247Z"
      },
      {
        "duration": 5,
        "start_time": "2022-07-01T12:14:08.258Z"
      },
      {
        "duration": 8,
        "start_time": "2022-07-01T12:14:08.265Z"
      },
      {
        "duration": 6,
        "start_time": "2022-07-01T12:14:08.276Z"
      },
      {
        "duration": 6,
        "start_time": "2022-07-01T12:14:08.284Z"
      },
      {
        "duration": 67,
        "start_time": "2022-07-01T12:19:20.237Z"
      },
      {
        "duration": 4,
        "start_time": "2022-07-01T12:29:11.594Z"
      },
      {
        "duration": 7,
        "start_time": "2022-07-01T12:30:34.571Z"
      },
      {
        "duration": 3,
        "start_time": "2022-07-01T12:42:24.450Z"
      },
      {
        "duration": 4,
        "start_time": "2022-07-01T12:42:33.490Z"
      },
      {
        "duration": 129,
        "start_time": "2022-07-01T12:43:18.579Z"
      },
      {
        "duration": 39,
        "start_time": "2022-07-01T12:44:00.029Z"
      },
      {
        "duration": 23,
        "start_time": "2022-07-01T12:44:44.205Z"
      },
      {
        "duration": 4,
        "start_time": "2022-07-01T12:57:53.246Z"
      },
      {
        "duration": 6,
        "start_time": "2022-07-01T12:57:53.876Z"
      },
      {
        "duration": 7,
        "start_time": "2022-07-01T12:58:04.446Z"
      },
      {
        "duration": 5,
        "start_time": "2022-07-01T12:58:04.978Z"
      },
      {
        "duration": 95,
        "start_time": "2022-07-01T13:01:15.909Z"
      },
      {
        "duration": 57,
        "start_time": "2022-07-01T13:01:57.178Z"
      },
      {
        "duration": 79,
        "start_time": "2022-07-01T13:02:05.345Z"
      },
      {
        "duration": 71,
        "start_time": "2022-07-01T13:02:10.293Z"
      },
      {
        "duration": 91,
        "start_time": "2022-07-01T13:02:18.205Z"
      },
      {
        "duration": 55,
        "start_time": "2022-07-01T13:02:46.076Z"
      },
      {
        "duration": 69,
        "start_time": "2022-07-01T13:02:57.545Z"
      },
      {
        "duration": 97,
        "start_time": "2022-07-01T13:04:28.688Z"
      },
      {
        "duration": 1523,
        "start_time": "2022-07-01T13:05:03.483Z"
      },
      {
        "duration": 891,
        "start_time": "2022-07-01T13:05:05.008Z"
      },
      {
        "duration": 13,
        "start_time": "2022-07-01T13:05:05.901Z"
      },
      {
        "duration": 39,
        "start_time": "2022-07-01T13:05:05.916Z"
      },
      {
        "duration": 14,
        "start_time": "2022-07-01T13:05:05.956Z"
      },
      {
        "duration": 21,
        "start_time": "2022-07-01T13:05:05.972Z"
      },
      {
        "duration": 8,
        "start_time": "2022-07-01T13:05:05.995Z"
      },
      {
        "duration": 32,
        "start_time": "2022-07-01T13:05:06.005Z"
      },
      {
        "duration": 177,
        "start_time": "2022-07-01T13:05:06.045Z"
      },
      {
        "duration": 191,
        "start_time": "2022-07-01T13:05:06.226Z"
      },
      {
        "duration": 196,
        "start_time": "2022-07-01T13:05:06.419Z"
      },
      {
        "duration": 35,
        "start_time": "2022-07-01T13:05:06.618Z"
      },
      {
        "duration": 74,
        "start_time": "2022-07-01T13:05:06.656Z"
      },
      {
        "duration": 131,
        "start_time": "2022-07-01T13:05:06.733Z"
      },
      {
        "duration": 130,
        "start_time": "2022-07-01T13:05:06.928Z"
      },
      {
        "duration": 79,
        "start_time": "2022-07-01T13:05:07.060Z"
      },
      {
        "duration": 140,
        "start_time": "2022-07-01T13:05:07.145Z"
      },
      {
        "duration": 18,
        "start_time": "2022-07-01T13:05:07.287Z"
      },
      {
        "duration": 32,
        "start_time": "2022-07-01T13:05:07.307Z"
      },
      {
        "duration": 35,
        "start_time": "2022-07-01T13:05:07.341Z"
      },
      {
        "duration": 8,
        "start_time": "2022-07-01T13:05:07.378Z"
      },
      {
        "duration": 107,
        "start_time": "2022-07-01T13:05:07.387Z"
      },
      {
        "duration": 5,
        "start_time": "2022-07-01T13:05:25.364Z"
      },
      {
        "duration": 3,
        "start_time": "2022-07-01T13:05:47.297Z"
      },
      {
        "duration": 8,
        "start_time": "2022-07-01T13:05:52.224Z"
      },
      {
        "duration": 72,
        "start_time": "2022-07-01T13:05:54.474Z"
      },
      {
        "duration": 49,
        "start_time": "2022-07-01T13:06:31.147Z"
      },
      {
        "duration": 4,
        "start_time": "2022-07-01T13:08:13.499Z"
      },
      {
        "duration": 6,
        "start_time": "2022-07-01T13:08:14.283Z"
      },
      {
        "duration": 5,
        "start_time": "2022-07-01T13:08:20.295Z"
      },
      {
        "duration": 5,
        "start_time": "2022-07-01T13:08:23.961Z"
      },
      {
        "duration": 46,
        "start_time": "2022-07-04T09:05:20.895Z"
      },
      {
        "duration": 1470,
        "start_time": "2022-07-04T09:05:26.166Z"
      },
      {
        "duration": 678,
        "start_time": "2022-07-04T09:05:27.638Z"
      },
      {
        "duration": 12,
        "start_time": "2022-07-04T09:05:29.586Z"
      },
      {
        "duration": 14,
        "start_time": "2022-07-04T09:05:30.786Z"
      },
      {
        "duration": 9,
        "start_time": "2022-07-04T09:05:31.893Z"
      },
      {
        "duration": 14,
        "start_time": "2022-07-04T09:05:32.451Z"
      },
      {
        "duration": 8,
        "start_time": "2022-07-04T09:05:33.356Z"
      },
      {
        "duration": 14,
        "start_time": "2022-07-04T09:05:33.879Z"
      },
      {
        "duration": 136,
        "start_time": "2022-07-04T09:05:35.484Z"
      },
      {
        "duration": 251,
        "start_time": "2022-07-04T09:05:36.644Z"
      },
      {
        "duration": 203,
        "start_time": "2022-07-04T09:09:51.277Z"
      },
      {
        "duration": 240,
        "start_time": "2022-07-04T09:10:19.480Z"
      },
      {
        "duration": 221,
        "start_time": "2022-07-04T09:11:33.023Z"
      },
      {
        "duration": 153,
        "start_time": "2022-07-04T09:11:51.832Z"
      },
      {
        "duration": 174,
        "start_time": "2022-07-04T09:12:31.432Z"
      },
      {
        "duration": 152,
        "start_time": "2022-07-04T09:12:53.757Z"
      },
      {
        "duration": 277,
        "start_time": "2022-07-04T09:12:57.875Z"
      },
      {
        "duration": 279,
        "start_time": "2022-07-04T09:13:13.633Z"
      },
      {
        "duration": 246,
        "start_time": "2022-07-04T09:13:31.871Z"
      },
      {
        "duration": 129,
        "start_time": "2022-07-04T09:15:33.387Z"
      },
      {
        "duration": 319,
        "start_time": "2022-07-04T09:16:14.776Z"
      },
      {
        "duration": 193,
        "start_time": "2022-07-04T09:17:09.100Z"
      },
      {
        "duration": 635,
        "start_time": "2022-07-04T09:17:20.860Z"
      },
      {
        "duration": 1093,
        "start_time": "2022-07-04T09:17:30.211Z"
      },
      {
        "duration": 183,
        "start_time": "2022-07-04T09:17:35.812Z"
      },
      {
        "duration": 96,
        "start_time": "2022-07-04T09:17:46.619Z"
      },
      {
        "duration": 147,
        "start_time": "2022-07-04T09:17:50.715Z"
      },
      {
        "duration": 190,
        "start_time": "2022-07-04T09:18:52.468Z"
      },
      {
        "duration": 191,
        "start_time": "2022-07-04T09:20:00.683Z"
      },
      {
        "duration": 176,
        "start_time": "2022-07-04T09:20:16.439Z"
      },
      {
        "duration": 173,
        "start_time": "2022-07-04T09:20:36.926Z"
      },
      {
        "duration": 177,
        "start_time": "2022-07-04T09:20:58.160Z"
      },
      {
        "duration": 172,
        "start_time": "2022-07-04T09:21:23.773Z"
      },
      {
        "duration": 11,
        "start_time": "2022-07-04T09:22:18.579Z"
      },
      {
        "duration": 30,
        "start_time": "2022-07-04T09:22:19.230Z"
      },
      {
        "duration": 27,
        "start_time": "2022-07-04T09:22:20.179Z"
      },
      {
        "duration": 29,
        "start_time": "2022-07-04T09:22:21.371Z"
      },
      {
        "duration": 3,
        "start_time": "2022-07-04T09:25:20.974Z"
      },
      {
        "duration": 15,
        "start_time": "2022-07-04T09:25:40.610Z"
      },
      {
        "duration": 10,
        "start_time": "2022-07-04T09:25:45.467Z"
      },
      {
        "duration": 9,
        "start_time": "2022-07-04T09:25:55.901Z"
      },
      {
        "duration": 16,
        "start_time": "2022-07-04T09:25:59.771Z"
      },
      {
        "duration": 1735,
        "start_time": "2022-07-04T09:26:16.753Z"
      },
      {
        "duration": 1287,
        "start_time": "2022-07-04T09:26:18.491Z"
      },
      {
        "duration": 328,
        "start_time": "2022-07-04T09:26:19.779Z"
      },
      {
        "duration": 13,
        "start_time": "2022-07-04T09:26:20.109Z"
      },
      {
        "duration": 16,
        "start_time": "2022-07-04T09:26:20.124Z"
      },
      {
        "duration": 22,
        "start_time": "2022-07-04T09:26:20.141Z"
      },
      {
        "duration": 22,
        "start_time": "2022-07-04T09:26:20.164Z"
      },
      {
        "duration": 8,
        "start_time": "2022-07-04T09:26:20.188Z"
      },
      {
        "duration": 21,
        "start_time": "2022-07-04T09:26:20.197Z"
      },
      {
        "duration": 200,
        "start_time": "2022-07-04T09:26:20.221Z"
      },
      {
        "duration": 195,
        "start_time": "2022-07-04T09:26:20.423Z"
      },
      {
        "duration": 204,
        "start_time": "2022-07-04T09:26:20.620Z"
      },
      {
        "duration": 16,
        "start_time": "2022-07-04T09:26:20.827Z"
      },
      {
        "duration": 26,
        "start_time": "2022-07-04T09:26:20.845Z"
      },
      {
        "duration": 36,
        "start_time": "2022-07-04T09:26:20.873Z"
      },
      {
        "duration": 114,
        "start_time": "2022-07-04T09:26:20.959Z"
      },
      {
        "duration": 199,
        "start_time": "2022-07-04T09:26:21.075Z"
      },
      {
        "duration": 82,
        "start_time": "2022-07-04T09:26:21.276Z"
      },
      {
        "duration": 107,
        "start_time": "2022-07-04T09:26:21.360Z"
      },
      {
        "duration": 6,
        "start_time": "2022-07-04T09:26:21.469Z"
      },
      {
        "duration": 7,
        "start_time": "2022-07-04T09:26:21.476Z"
      },
      {
        "duration": 4,
        "start_time": "2022-07-04T09:26:21.485Z"
      },
      {
        "duration": 5,
        "start_time": "2022-07-04T09:26:21.491Z"
      },
      {
        "duration": 8,
        "start_time": "2022-07-04T09:26:21.497Z"
      },
      {
        "duration": 47,
        "start_time": "2022-07-04T09:26:21.506Z"
      },
      {
        "duration": 1275,
        "start_time": "2022-07-04T09:26:55.847Z"
      },
      {
        "duration": 1339,
        "start_time": "2022-07-04T09:26:57.124Z"
      },
      {
        "duration": 348,
        "start_time": "2022-07-04T09:26:58.465Z"
      },
      {
        "duration": 13,
        "start_time": "2022-07-04T09:26:58.815Z"
      },
      {
        "duration": 19,
        "start_time": "2022-07-04T09:26:58.829Z"
      },
      {
        "duration": 9,
        "start_time": "2022-07-04T09:26:58.859Z"
      },
      {
        "duration": 26,
        "start_time": "2022-07-04T09:26:58.870Z"
      },
      {
        "duration": 11,
        "start_time": "2022-07-04T09:26:58.898Z"
      },
      {
        "duration": 24,
        "start_time": "2022-07-04T09:26:58.910Z"
      },
      {
        "duration": 225,
        "start_time": "2022-07-04T09:26:58.938Z"
      },
      {
        "duration": 177,
        "start_time": "2022-07-04T09:26:59.164Z"
      },
      {
        "duration": 179,
        "start_time": "2022-07-04T09:26:59.343Z"
      },
      {
        "duration": 13,
        "start_time": "2022-07-04T09:26:59.524Z"
      },
      {
        "duration": 22,
        "start_time": "2022-07-04T09:26:59.538Z"
      },
      {
        "duration": 5,
        "start_time": "2022-07-04T09:26:59.562Z"
      },
      {
        "duration": 152,
        "start_time": "2022-07-04T09:26:59.568Z"
      },
      {
        "duration": 0,
        "start_time": "2022-07-04T09:26:59.722Z"
      },
      {
        "duration": 0,
        "start_time": "2022-07-04T09:26:59.723Z"
      },
      {
        "duration": 0,
        "start_time": "2022-07-04T09:26:59.724Z"
      },
      {
        "duration": 0,
        "start_time": "2022-07-04T09:26:59.725Z"
      },
      {
        "duration": 0,
        "start_time": "2022-07-04T09:26:59.726Z"
      },
      {
        "duration": 0,
        "start_time": "2022-07-04T09:26:59.727Z"
      },
      {
        "duration": 0,
        "start_time": "2022-07-04T09:26:59.728Z"
      },
      {
        "duration": 0,
        "start_time": "2022-07-04T09:26:59.729Z"
      },
      {
        "duration": 0,
        "start_time": "2022-07-04T09:26:59.730Z"
      },
      {
        "duration": 0,
        "start_time": "2022-07-04T09:26:59.731Z"
      },
      {
        "duration": 18,
        "start_time": "2022-07-04T09:27:26.224Z"
      },
      {
        "duration": 52,
        "start_time": "2022-07-04T09:27:36.673Z"
      },
      {
        "duration": 1317,
        "start_time": "2022-07-04T09:27:50.082Z"
      },
      {
        "duration": 1286,
        "start_time": "2022-07-04T09:27:51.402Z"
      },
      {
        "duration": 359,
        "start_time": "2022-07-04T09:27:52.689Z"
      },
      {
        "duration": 15,
        "start_time": "2022-07-04T09:27:53.051Z"
      },
      {
        "duration": 22,
        "start_time": "2022-07-04T09:27:53.068Z"
      },
      {
        "duration": 11,
        "start_time": "2022-07-04T09:27:53.092Z"
      },
      {
        "duration": 22,
        "start_time": "2022-07-04T09:27:53.104Z"
      },
      {
        "duration": 9,
        "start_time": "2022-07-04T09:27:53.128Z"
      },
      {
        "duration": 21,
        "start_time": "2022-07-04T09:27:53.158Z"
      },
      {
        "duration": 195,
        "start_time": "2022-07-04T09:27:53.182Z"
      },
      {
        "duration": 179,
        "start_time": "2022-07-04T09:27:53.379Z"
      },
      {
        "duration": 168,
        "start_time": "2022-07-04T09:27:53.560Z"
      },
      {
        "duration": 18,
        "start_time": "2022-07-04T09:27:53.730Z"
      },
      {
        "duration": 154,
        "start_time": "2022-07-04T09:27:53.758Z"
      },
      {
        "duration": 0,
        "start_time": "2022-07-04T09:27:53.914Z"
      },
      {
        "duration": 0,
        "start_time": "2022-07-04T09:27:53.915Z"
      },
      {
        "duration": 0,
        "start_time": "2022-07-04T09:27:53.916Z"
      },
      {
        "duration": 0,
        "start_time": "2022-07-04T09:27:53.917Z"
      },
      {
        "duration": 0,
        "start_time": "2022-07-04T09:27:53.918Z"
      },
      {
        "duration": 0,
        "start_time": "2022-07-04T09:27:53.919Z"
      },
      {
        "duration": 0,
        "start_time": "2022-07-04T09:27:53.920Z"
      },
      {
        "duration": 0,
        "start_time": "2022-07-04T09:27:53.921Z"
      },
      {
        "duration": 0,
        "start_time": "2022-07-04T09:27:53.922Z"
      },
      {
        "duration": 0,
        "start_time": "2022-07-04T09:27:53.923Z"
      },
      {
        "duration": 50,
        "start_time": "2022-07-04T09:28:07.072Z"
      },
      {
        "duration": 12,
        "start_time": "2022-07-04T09:28:32.573Z"
      },
      {
        "duration": 45,
        "start_time": "2022-07-04T09:28:55.894Z"
      },
      {
        "duration": 16,
        "start_time": "2022-07-04T09:29:11.336Z"
      },
      {
        "duration": 18,
        "start_time": "2022-07-04T09:29:23.606Z"
      },
      {
        "duration": 1265,
        "start_time": "2022-07-04T09:29:32.391Z"
      },
      {
        "duration": 1305,
        "start_time": "2022-07-04T09:29:33.658Z"
      },
      {
        "duration": 330,
        "start_time": "2022-07-04T09:29:34.965Z"
      },
      {
        "duration": 14,
        "start_time": "2022-07-04T09:29:35.296Z"
      },
      {
        "duration": 73,
        "start_time": "2022-07-04T09:29:35.311Z"
      },
      {
        "duration": 8,
        "start_time": "2022-07-04T09:29:35.385Z"
      },
      {
        "duration": 16,
        "start_time": "2022-07-04T09:29:35.395Z"
      },
      {
        "duration": 9,
        "start_time": "2022-07-04T09:29:35.412Z"
      },
      {
        "duration": 18,
        "start_time": "2022-07-04T09:29:35.422Z"
      },
      {
        "duration": 178,
        "start_time": "2022-07-04T09:29:35.442Z"
      },
      {
        "duration": 186,
        "start_time": "2022-07-04T09:29:35.621Z"
      },
      {
        "duration": 171,
        "start_time": "2022-07-04T09:29:35.809Z"
      },
      {
        "duration": 12,
        "start_time": "2022-07-04T09:29:35.982Z"
      },
      {
        "duration": 15,
        "start_time": "2022-07-04T09:29:35.995Z"
      },
      {
        "duration": 52,
        "start_time": "2022-07-04T09:29:36.012Z"
      },
      {
        "duration": 224,
        "start_time": "2022-07-04T09:29:36.160Z"
      },
      {
        "duration": 0,
        "start_time": "2022-07-04T09:29:36.386Z"
      },
      {
        "duration": 0,
        "start_time": "2022-07-04T09:29:36.387Z"
      },
      {
        "duration": 0,
        "start_time": "2022-07-04T09:29:36.388Z"
      },
      {
        "duration": 0,
        "start_time": "2022-07-04T09:29:36.389Z"
      },
      {
        "duration": 0,
        "start_time": "2022-07-04T09:29:36.390Z"
      },
      {
        "duration": 0,
        "start_time": "2022-07-04T09:29:36.391Z"
      },
      {
        "duration": 0,
        "start_time": "2022-07-04T09:29:36.392Z"
      },
      {
        "duration": 0,
        "start_time": "2022-07-04T09:29:36.393Z"
      },
      {
        "duration": 0,
        "start_time": "2022-07-04T09:29:36.394Z"
      },
      {
        "duration": 1222,
        "start_time": "2022-07-04T09:29:54.823Z"
      },
      {
        "duration": 1293,
        "start_time": "2022-07-04T09:29:56.048Z"
      },
      {
        "duration": 358,
        "start_time": "2022-07-04T09:29:57.343Z"
      },
      {
        "duration": 13,
        "start_time": "2022-07-04T09:29:57.703Z"
      },
      {
        "duration": 15,
        "start_time": "2022-07-04T09:29:57.717Z"
      },
      {
        "duration": 24,
        "start_time": "2022-07-04T09:29:57.734Z"
      },
      {
        "duration": 14,
        "start_time": "2022-07-04T09:29:57.760Z"
      },
      {
        "duration": 10,
        "start_time": "2022-07-04T09:29:57.776Z"
      },
      {
        "duration": 17,
        "start_time": "2022-07-04T09:29:57.787Z"
      },
      {
        "duration": 202,
        "start_time": "2022-07-04T09:29:57.806Z"
      },
      {
        "duration": 190,
        "start_time": "2022-07-04T09:29:58.010Z"
      },
      {
        "duration": 192,
        "start_time": "2022-07-04T09:29:58.202Z"
      },
      {
        "duration": 11,
        "start_time": "2022-07-04T09:29:58.396Z"
      },
      {
        "duration": 15,
        "start_time": "2022-07-04T09:29:58.409Z"
      },
      {
        "duration": 49,
        "start_time": "2022-07-04T09:29:58.425Z"
      },
      {
        "duration": 193,
        "start_time": "2022-07-04T09:29:58.480Z"
      },
      {
        "duration": 195,
        "start_time": "2022-07-04T09:29:58.679Z"
      },
      {
        "duration": 82,
        "start_time": "2022-07-04T09:29:58.877Z"
      },
      {
        "duration": 98,
        "start_time": "2022-07-04T09:29:58.962Z"
      },
      {
        "duration": 9,
        "start_time": "2022-07-04T09:29:59.063Z"
      },
      {
        "duration": 16,
        "start_time": "2022-07-04T09:29:59.074Z"
      },
      {
        "duration": 8,
        "start_time": "2022-07-04T09:29:59.092Z"
      },
      {
        "duration": 5,
        "start_time": "2022-07-04T09:29:59.101Z"
      },
      {
        "duration": 9,
        "start_time": "2022-07-04T09:29:59.108Z"
      },
      {
        "duration": 46,
        "start_time": "2022-07-04T09:29:59.119Z"
      },
      {
        "duration": 4,
        "start_time": "2022-07-04T09:33:30.227Z"
      },
      {
        "duration": 64,
        "start_time": "2022-07-04T09:33:43.096Z"
      },
      {
        "duration": 31,
        "start_time": "2022-07-04T09:33:58.773Z"
      },
      {
        "duration": 30,
        "start_time": "2022-07-04T09:34:15.871Z"
      },
      {
        "duration": 4,
        "start_time": "2022-07-04T09:34:46.988Z"
      },
      {
        "duration": 31,
        "start_time": "2022-07-04T09:34:47.811Z"
      },
      {
        "duration": 4,
        "start_time": "2022-07-04T09:34:52.684Z"
      },
      {
        "duration": 103,
        "start_time": "2022-07-04T09:34:53.956Z"
      },
      {
        "duration": 4,
        "start_time": "2022-07-04T09:35:17.000Z"
      },
      {
        "duration": 27,
        "start_time": "2022-07-04T09:35:17.783Z"
      },
      {
        "duration": 4,
        "start_time": "2022-07-04T09:35:29.072Z"
      },
      {
        "duration": 32,
        "start_time": "2022-07-04T09:35:30.169Z"
      },
      {
        "duration": 4,
        "start_time": "2022-07-04T09:35:53.920Z"
      },
      {
        "duration": 26,
        "start_time": "2022-07-04T09:35:55.924Z"
      },
      {
        "duration": 5,
        "start_time": "2022-07-04T09:36:17.156Z"
      },
      {
        "duration": 27,
        "start_time": "2022-07-04T09:36:18.471Z"
      },
      {
        "duration": 3,
        "start_time": "2022-07-04T09:36:24.825Z"
      },
      {
        "duration": 26,
        "start_time": "2022-07-04T09:36:25.885Z"
      },
      {
        "duration": 26,
        "start_time": "2022-07-04T09:36:30.404Z"
      },
      {
        "duration": 26,
        "start_time": "2022-07-04T09:36:31.164Z"
      },
      {
        "duration": 3,
        "start_time": "2022-07-04T09:48:03.508Z"
      },
      {
        "duration": 3,
        "start_time": "2022-07-04T09:48:17.096Z"
      },
      {
        "duration": 3,
        "start_time": "2022-07-04T09:48:21.102Z"
      },
      {
        "duration": 2,
        "start_time": "2022-07-04T09:48:30.995Z"
      },
      {
        "duration": 3,
        "start_time": "2022-07-04T09:49:21.883Z"
      },
      {
        "duration": 5,
        "start_time": "2022-07-04T09:49:27.088Z"
      },
      {
        "duration": 6,
        "start_time": "2022-07-04T09:49:27.576Z"
      },
      {
        "duration": 6,
        "start_time": "2022-07-04T09:49:27.983Z"
      },
      {
        "duration": 1513,
        "start_time": "2022-07-04T10:18:29.522Z"
      },
      {
        "duration": 1544,
        "start_time": "2022-07-04T10:18:31.037Z"
      },
      {
        "duration": 346,
        "start_time": "2022-07-04T10:18:32.582Z"
      },
      {
        "duration": 15,
        "start_time": "2022-07-04T10:18:32.932Z"
      },
      {
        "duration": 28,
        "start_time": "2022-07-04T10:18:32.949Z"
      },
      {
        "duration": 12,
        "start_time": "2022-07-04T10:18:32.979Z"
      },
      {
        "duration": 45,
        "start_time": "2022-07-04T10:18:32.994Z"
      },
      {
        "duration": 12,
        "start_time": "2022-07-04T10:18:33.044Z"
      },
      {
        "duration": 18,
        "start_time": "2022-07-04T10:18:33.058Z"
      },
      {
        "duration": 209,
        "start_time": "2022-07-04T10:18:33.079Z"
      },
      {
        "duration": 219,
        "start_time": "2022-07-04T10:18:33.289Z"
      },
      {
        "duration": 208,
        "start_time": "2022-07-04T10:18:33.510Z"
      },
      {
        "duration": 18,
        "start_time": "2022-07-04T10:18:33.720Z"
      },
      {
        "duration": 23,
        "start_time": "2022-07-04T10:18:33.742Z"
      },
      {
        "duration": 178,
        "start_time": "2022-07-04T10:18:33.767Z"
      },
      {
        "duration": 0,
        "start_time": "2022-07-04T10:18:33.947Z"
      },
      {
        "duration": 0,
        "start_time": "2022-07-04T10:18:33.949Z"
      },
      {
        "duration": 0,
        "start_time": "2022-07-04T10:18:33.959Z"
      },
      {
        "duration": 0,
        "start_time": "2022-07-04T10:18:33.961Z"
      },
      {
        "duration": 0,
        "start_time": "2022-07-04T10:18:33.963Z"
      },
      {
        "duration": 0,
        "start_time": "2022-07-04T10:18:33.964Z"
      },
      {
        "duration": 0,
        "start_time": "2022-07-04T10:18:33.966Z"
      },
      {
        "duration": 0,
        "start_time": "2022-07-04T10:18:33.967Z"
      },
      {
        "duration": 0,
        "start_time": "2022-07-04T10:18:33.969Z"
      },
      {
        "duration": 0,
        "start_time": "2022-07-04T10:18:33.970Z"
      },
      {
        "duration": 58,
        "start_time": "2022-07-04T10:18:59.164Z"
      },
      {
        "duration": 14,
        "start_time": "2022-07-04T10:19:45.976Z"
      },
      {
        "duration": 4,
        "start_time": "2022-07-04T10:19:48.571Z"
      },
      {
        "duration": 58,
        "start_time": "2022-07-04T10:19:50.214Z"
      },
      {
        "duration": 93,
        "start_time": "2022-07-04T10:19:51.478Z"
      },
      {
        "duration": 81,
        "start_time": "2022-07-04T10:19:53.778Z"
      },
      {
        "duration": 3,
        "start_time": "2022-07-04T10:19:58.533Z"
      },
      {
        "duration": 4,
        "start_time": "2022-07-04T10:19:58.952Z"
      },
      {
        "duration": 4,
        "start_time": "2022-07-04T10:20:01.037Z"
      },
      {
        "duration": 11,
        "start_time": "2022-07-04T10:20:01.508Z"
      },
      {
        "duration": 13,
        "start_time": "2022-07-04T10:20:01.789Z"
      },
      {
        "duration": 14,
        "start_time": "2022-07-04T10:20:21.326Z"
      },
      {
        "duration": 11,
        "start_time": "2022-07-04T10:24:08.137Z"
      },
      {
        "duration": 4,
        "start_time": "2022-07-04T10:24:32.217Z"
      },
      {
        "duration": 36,
        "start_time": "2022-07-04T10:24:33.409Z"
      },
      {
        "duration": 13,
        "start_time": "2022-07-04T10:24:46.185Z"
      },
      {
        "duration": 13,
        "start_time": "2022-07-04T10:24:50.522Z"
      },
      {
        "duration": 5,
        "start_time": "2022-07-04T10:25:18.331Z"
      },
      {
        "duration": 89,
        "start_time": "2022-07-04T10:25:19.706Z"
      },
      {
        "duration": 18,
        "start_time": "2022-07-04T10:25:24.805Z"
      },
      {
        "duration": 81,
        "start_time": "2022-07-04T10:25:50.402Z"
      },
      {
        "duration": 6,
        "start_time": "2022-07-04T10:26:04.293Z"
      },
      {
        "duration": 13,
        "start_time": "2022-07-04T10:26:15.290Z"
      },
      {
        "duration": 56,
        "start_time": "2022-07-04T10:27:14.116Z"
      },
      {
        "duration": 8,
        "start_time": "2022-07-04T10:27:23.278Z"
      },
      {
        "duration": 156,
        "start_time": "2022-07-04T10:27:43.702Z"
      },
      {
        "duration": 12,
        "start_time": "2022-07-04T10:27:52.259Z"
      },
      {
        "duration": 77,
        "start_time": "2022-07-04T10:27:58.980Z"
      },
      {
        "duration": 5,
        "start_time": "2022-07-04T10:29:45.780Z"
      },
      {
        "duration": 14,
        "start_time": "2022-07-04T10:29:46.579Z"
      },
      {
        "duration": 6,
        "start_time": "2022-07-04T10:29:57.007Z"
      },
      {
        "duration": 9,
        "start_time": "2022-07-04T10:29:57.623Z"
      },
      {
        "duration": 5,
        "start_time": "2022-07-04T10:30:09.222Z"
      },
      {
        "duration": 57,
        "start_time": "2022-07-04T10:30:09.710Z"
      },
      {
        "duration": 40,
        "start_time": "2022-07-04T10:30:53.451Z"
      },
      {
        "duration": 31,
        "start_time": "2022-07-04T10:30:54.477Z"
      },
      {
        "duration": 3,
        "start_time": "2022-07-04T10:31:00.284Z"
      },
      {
        "duration": 7,
        "start_time": "2022-07-04T10:31:00.777Z"
      },
      {
        "duration": 5,
        "start_time": "2022-07-04T10:31:02.969Z"
      },
      {
        "duration": 119,
        "start_time": "2022-07-04T10:31:04.288Z"
      },
      {
        "duration": 100,
        "start_time": "2022-07-04T10:32:45.086Z"
      },
      {
        "duration": 4,
        "start_time": "2022-07-04T10:33:11.308Z"
      },
      {
        "duration": 147,
        "start_time": "2022-07-04T10:33:12.297Z"
      },
      {
        "duration": 89,
        "start_time": "2022-07-04T10:33:14.252Z"
      },
      {
        "duration": 100,
        "start_time": "2022-07-04T10:33:15.081Z"
      },
      {
        "duration": 124,
        "start_time": "2022-07-04T10:34:06.004Z"
      },
      {
        "duration": 5,
        "start_time": "2022-07-04T10:34:31.627Z"
      },
      {
        "duration": 115,
        "start_time": "2022-07-04T10:34:56.656Z"
      },
      {
        "duration": 119,
        "start_time": "2022-07-04T10:35:05.925Z"
      },
      {
        "duration": 8,
        "start_time": "2022-07-04T10:35:15.898Z"
      },
      {
        "duration": 6,
        "start_time": "2022-07-04T10:35:32.038Z"
      },
      {
        "duration": 108,
        "start_time": "2022-07-04T10:35:32.853Z"
      },
      {
        "duration": 33,
        "start_time": "2022-07-04T10:35:33.892Z"
      },
      {
        "duration": 45,
        "start_time": "2022-07-04T10:35:34.352Z"
      },
      {
        "duration": 5,
        "start_time": "2022-07-04T10:35:38.093Z"
      },
      {
        "duration": 5,
        "start_time": "2022-07-04T10:35:45.545Z"
      },
      {
        "duration": 34,
        "start_time": "2022-07-04T10:35:46.300Z"
      },
      {
        "duration": 9,
        "start_time": "2022-07-04T10:35:50.565Z"
      },
      {
        "duration": 8,
        "start_time": "2022-07-04T10:35:59.820Z"
      },
      {
        "duration": 6,
        "start_time": "2022-07-04T10:36:06.317Z"
      },
      {
        "duration": 53,
        "start_time": "2022-07-04T10:36:07.840Z"
      },
      {
        "duration": 4,
        "start_time": "2022-07-04T10:36:08.724Z"
      },
      {
        "duration": 4,
        "start_time": "2022-07-04T10:36:13.779Z"
      },
      {
        "duration": 22,
        "start_time": "2022-07-04T10:36:14.411Z"
      },
      {
        "duration": 5,
        "start_time": "2022-07-04T10:36:15.012Z"
      },
      {
        "duration": 5,
        "start_time": "2022-07-04T10:36:24.844Z"
      },
      {
        "duration": 11,
        "start_time": "2022-07-04T10:36:28.708Z"
      },
      {
        "duration": 16,
        "start_time": "2022-07-04T10:36:31.144Z"
      },
      {
        "duration": 6,
        "start_time": "2022-07-04T10:36:43.637Z"
      },
      {
        "duration": 33,
        "start_time": "2022-07-04T10:36:44.916Z"
      },
      {
        "duration": 23,
        "start_time": "2022-07-04T10:36:51.268Z"
      },
      {
        "duration": 5,
        "start_time": "2022-07-04T10:36:52.004Z"
      },
      {
        "duration": 4,
        "start_time": "2022-07-04T10:37:20.214Z"
      },
      {
        "duration": 90,
        "start_time": "2022-07-04T10:37:20.976Z"
      },
      {
        "duration": 5,
        "start_time": "2022-07-04T10:37:23.933Z"
      },
      {
        "duration": 6,
        "start_time": "2022-07-04T10:37:27.693Z"
      },
      {
        "duration": 7,
        "start_time": "2022-07-04T10:37:37.178Z"
      },
      {
        "duration": 3,
        "start_time": "2022-07-04T10:37:46.014Z"
      },
      {
        "duration": 5,
        "start_time": "2022-07-04T10:37:48.093Z"
      },
      {
        "duration": 111,
        "start_time": "2022-07-04T10:37:49.470Z"
      },
      {
        "duration": 35,
        "start_time": "2022-07-04T10:37:54.555Z"
      },
      {
        "duration": 22,
        "start_time": "2022-07-04T10:37:55.438Z"
      },
      {
        "duration": 9,
        "start_time": "2022-07-04T10:38:01.069Z"
      },
      {
        "duration": 6,
        "start_time": "2022-07-04T10:38:02.278Z"
      },
      {
        "duration": 7,
        "start_time": "2022-07-04T10:38:02.927Z"
      },
      {
        "duration": 11,
        "start_time": "2022-07-04T13:06:26.257Z"
      },
      {
        "duration": 6,
        "start_time": "2022-07-04T13:07:20.877Z"
      },
      {
        "duration": 34,
        "start_time": "2022-07-04T13:08:02.240Z"
      },
      {
        "duration": 27,
        "start_time": "2022-07-04T13:11:19.234Z"
      },
      {
        "duration": 41,
        "start_time": "2022-07-04T13:11:30.442Z"
      },
      {
        "duration": 193,
        "start_time": "2022-07-04T13:11:39.442Z"
      },
      {
        "duration": 29,
        "start_time": "2022-07-04T13:11:48.753Z"
      },
      {
        "duration": 21,
        "start_time": "2022-07-04T13:15:06.986Z"
      },
      {
        "duration": 1385,
        "start_time": "2022-07-04T13:15:31.556Z"
      },
      {
        "duration": 380,
        "start_time": "2022-07-04T13:15:32.944Z"
      },
      {
        "duration": 16,
        "start_time": "2022-07-04T13:15:33.326Z"
      },
      {
        "duration": 28,
        "start_time": "2022-07-04T13:15:33.345Z"
      },
      {
        "duration": 14,
        "start_time": "2022-07-04T13:15:33.375Z"
      },
      {
        "duration": 42,
        "start_time": "2022-07-04T13:15:33.391Z"
      },
      {
        "duration": 16,
        "start_time": "2022-07-04T13:15:33.435Z"
      },
      {
        "duration": 36,
        "start_time": "2022-07-04T13:15:33.453Z"
      },
      {
        "duration": 237,
        "start_time": "2022-07-04T13:15:33.492Z"
      },
      {
        "duration": 226,
        "start_time": "2022-07-04T13:15:33.733Z"
      },
      {
        "duration": 195,
        "start_time": "2022-07-04T13:15:33.961Z"
      },
      {
        "duration": 13,
        "start_time": "2022-07-04T13:15:34.158Z"
      },
      {
        "duration": 12,
        "start_time": "2022-07-04T13:15:34.172Z"
      },
      {
        "duration": 145,
        "start_time": "2022-07-04T13:15:34.186Z"
      },
      {
        "duration": 112,
        "start_time": "2022-07-04T13:15:34.334Z"
      },
      {
        "duration": 204,
        "start_time": "2022-07-04T13:15:34.448Z"
      },
      {
        "duration": 198,
        "start_time": "2022-07-04T13:15:34.725Z"
      },
      {
        "duration": 5,
        "start_time": "2022-07-04T13:15:34.927Z"
      },
      {
        "duration": 97,
        "start_time": "2022-07-04T13:15:34.934Z"
      },
      {
        "duration": 7,
        "start_time": "2022-07-04T13:15:35.033Z"
      },
      {
        "duration": 12,
        "start_time": "2022-07-04T13:15:35.042Z"
      },
      {
        "duration": 8,
        "start_time": "2022-07-04T13:15:35.055Z"
      },
      {
        "duration": 6,
        "start_time": "2022-07-04T13:15:35.065Z"
      },
      {
        "duration": 129,
        "start_time": "2022-07-04T13:15:35.073Z"
      },
      {
        "duration": 4,
        "start_time": "2022-07-04T13:15:56.538Z"
      },
      {
        "duration": 89,
        "start_time": "2022-07-04T13:15:58.336Z"
      },
      {
        "duration": 15,
        "start_time": "2022-07-04T13:19:31.245Z"
      },
      {
        "duration": 19,
        "start_time": "2022-07-04T13:20:37.894Z"
      },
      {
        "duration": 32,
        "start_time": "2022-07-04T13:20:50.375Z"
      },
      {
        "duration": 1640,
        "start_time": "2022-07-04T13:36:21.985Z"
      },
      {
        "duration": 369,
        "start_time": "2022-07-04T13:36:23.628Z"
      },
      {
        "duration": 25,
        "start_time": "2022-07-04T13:36:23.999Z"
      },
      {
        "duration": 25,
        "start_time": "2022-07-04T13:36:24.027Z"
      },
      {
        "duration": 13,
        "start_time": "2022-07-04T13:36:24.054Z"
      },
      {
        "duration": 22,
        "start_time": "2022-07-04T13:36:24.070Z"
      },
      {
        "duration": 40,
        "start_time": "2022-07-04T13:36:24.094Z"
      },
      {
        "duration": 23,
        "start_time": "2022-07-04T13:36:24.137Z"
      },
      {
        "duration": 268,
        "start_time": "2022-07-04T13:36:24.162Z"
      },
      {
        "duration": 223,
        "start_time": "2022-07-04T13:36:24.433Z"
      },
      {
        "duration": 237,
        "start_time": "2022-07-04T13:36:24.659Z"
      },
      {
        "duration": 17,
        "start_time": "2022-07-04T13:36:24.898Z"
      },
      {
        "duration": 9,
        "start_time": "2022-07-04T13:36:24.925Z"
      },
      {
        "duration": 46,
        "start_time": "2022-07-04T13:36:24.936Z"
      },
      {
        "duration": 128,
        "start_time": "2022-07-04T13:36:25.025Z"
      },
      {
        "duration": 195,
        "start_time": "2022-07-04T13:36:25.157Z"
      },
      {
        "duration": 195,
        "start_time": "2022-07-04T13:36:25.353Z"
      },
      {
        "duration": 74,
        "start_time": "2022-07-04T13:36:25.551Z"
      },
      {
        "duration": 104,
        "start_time": "2022-07-04T13:36:25.628Z"
      },
      {
        "duration": 7,
        "start_time": "2022-07-04T13:36:25.734Z"
      },
      {
        "duration": 12,
        "start_time": "2022-07-04T13:36:25.743Z"
      },
      {
        "duration": 10,
        "start_time": "2022-07-04T13:36:25.757Z"
      },
      {
        "duration": 7,
        "start_time": "2022-07-04T13:36:25.769Z"
      },
      {
        "duration": 167,
        "start_time": "2022-07-04T13:36:25.778Z"
      },
      {
        "duration": 181,
        "start_time": "2022-07-04T13:36:44.056Z"
      },
      {
        "duration": 177,
        "start_time": "2022-07-04T13:36:45.431Z"
      },
      {
        "duration": 273,
        "start_time": "2022-07-04T13:36:56.584Z"
      },
      {
        "duration": 184,
        "start_time": "2022-07-04T13:36:58.482Z"
      },
      {
        "duration": 176,
        "start_time": "2022-07-04T13:37:01.048Z"
      },
      {
        "duration": 20,
        "start_time": "2022-07-04T13:37:35.827Z"
      },
      {
        "duration": 25,
        "start_time": "2022-07-04T13:37:45.081Z"
      },
      {
        "duration": 25,
        "start_time": "2022-07-04T13:39:54.437Z"
      },
      {
        "duration": 5,
        "start_time": "2022-07-04T13:40:05.194Z"
      },
      {
        "duration": 26,
        "start_time": "2022-07-04T13:40:08.994Z"
      },
      {
        "duration": 7,
        "start_time": "2022-07-04T13:40:42.322Z"
      },
      {
        "duration": 24,
        "start_time": "2022-07-04T13:40:51.435Z"
      },
      {
        "duration": 1343,
        "start_time": "2022-07-05T06:14:35.181Z"
      },
      {
        "duration": 680,
        "start_time": "2022-07-05T06:14:36.526Z"
      },
      {
        "duration": 17,
        "start_time": "2022-07-05T06:14:37.208Z"
      },
      {
        "duration": 39,
        "start_time": "2022-07-05T06:14:37.227Z"
      },
      {
        "duration": 10,
        "start_time": "2022-07-05T06:14:37.268Z"
      },
      {
        "duration": 48,
        "start_time": "2022-07-05T06:14:37.280Z"
      },
      {
        "duration": 19,
        "start_time": "2022-07-05T06:14:37.330Z"
      },
      {
        "duration": 35,
        "start_time": "2022-07-05T06:14:37.351Z"
      },
      {
        "duration": 222,
        "start_time": "2022-07-05T06:14:37.388Z"
      },
      {
        "duration": 193,
        "start_time": "2022-07-05T06:14:37.613Z"
      },
      {
        "duration": 175,
        "start_time": "2022-07-05T06:14:37.808Z"
      },
      {
        "duration": 13,
        "start_time": "2022-07-05T06:14:37.985Z"
      },
      {
        "duration": 6,
        "start_time": "2022-07-05T06:14:38.000Z"
      },
      {
        "duration": 47,
        "start_time": "2022-07-05T06:14:38.008Z"
      },
      {
        "duration": 185,
        "start_time": "2022-07-05T06:14:38.057Z"
      },
      {
        "duration": 116,
        "start_time": "2022-07-05T06:14:38.327Z"
      },
      {
        "duration": 192,
        "start_time": "2022-07-05T06:14:38.445Z"
      },
      {
        "duration": 83,
        "start_time": "2022-07-05T06:14:38.641Z"
      },
      {
        "duration": 97,
        "start_time": "2022-07-05T06:14:38.730Z"
      },
      {
        "duration": 107,
        "start_time": "2022-07-05T06:14:38.829Z"
      },
      {
        "duration": 0,
        "start_time": "2022-07-05T06:14:38.937Z"
      },
      {
        "duration": 0,
        "start_time": "2022-07-05T06:14:38.939Z"
      },
      {
        "duration": 0,
        "start_time": "2022-07-05T06:14:38.940Z"
      },
      {
        "duration": 0,
        "start_time": "2022-07-05T06:14:38.941Z"
      },
      {
        "duration": 5,
        "start_time": "2022-07-05T06:14:55.138Z"
      },
      {
        "duration": 20,
        "start_time": "2022-07-05T06:14:58.922Z"
      },
      {
        "duration": 6,
        "start_time": "2022-07-05T06:15:22.571Z"
      },
      {
        "duration": 19,
        "start_time": "2022-07-05T06:29:09.205Z"
      },
      {
        "duration": 6,
        "start_time": "2022-07-05T06:30:57.583Z"
      },
      {
        "duration": 6,
        "start_time": "2022-07-05T06:32:07.234Z"
      },
      {
        "duration": 90,
        "start_time": "2022-07-05T06:32:13.337Z"
      },
      {
        "duration": 5,
        "start_time": "2022-07-05T06:32:34.604Z"
      },
      {
        "duration": 4,
        "start_time": "2022-07-05T06:32:41.456Z"
      },
      {
        "duration": 27,
        "start_time": "2022-07-05T06:34:40.610Z"
      },
      {
        "duration": 37,
        "start_time": "2022-07-05T06:34:50.450Z"
      },
      {
        "duration": 7,
        "start_time": "2022-07-05T06:35:39.035Z"
      },
      {
        "duration": 3,
        "start_time": "2022-07-05T06:35:41.324Z"
      },
      {
        "duration": 15,
        "start_time": "2022-07-05T06:35:43.129Z"
      },
      {
        "duration": 3,
        "start_time": "2022-07-05T06:36:11.843Z"
      },
      {
        "duration": 3,
        "start_time": "2022-07-05T06:36:12.539Z"
      },
      {
        "duration": 15,
        "start_time": "2022-07-05T06:36:13.468Z"
      },
      {
        "duration": 3,
        "start_time": "2022-07-05T06:36:26.867Z"
      },
      {
        "duration": 7,
        "start_time": "2022-07-05T06:36:28.387Z"
      },
      {
        "duration": 11,
        "start_time": "2022-07-05T06:42:18.634Z"
      },
      {
        "duration": 11,
        "start_time": "2022-07-05T06:42:21.658Z"
      },
      {
        "duration": 8,
        "start_time": "2022-07-05T06:42:29.162Z"
      },
      {
        "duration": 8,
        "start_time": "2022-07-05T06:42:40.547Z"
      },
      {
        "duration": 10,
        "start_time": "2022-07-05T06:42:44.811Z"
      },
      {
        "duration": 7,
        "start_time": "2022-07-05T06:42:58.875Z"
      },
      {
        "duration": 7,
        "start_time": "2022-07-05T06:43:11.187Z"
      },
      {
        "duration": 8,
        "start_time": "2022-07-05T06:43:40.829Z"
      },
      {
        "duration": 18,
        "start_time": "2022-07-05T06:45:03.702Z"
      },
      {
        "duration": 3,
        "start_time": "2022-07-05T06:45:21.767Z"
      },
      {
        "duration": 7,
        "start_time": "2022-07-05T06:45:23.759Z"
      },
      {
        "duration": 8,
        "start_time": "2022-07-05T06:45:39.072Z"
      },
      {
        "duration": 51,
        "start_time": "2022-07-05T06:46:11.513Z"
      },
      {
        "duration": 7,
        "start_time": "2022-07-05T06:46:15.681Z"
      },
      {
        "duration": 9,
        "start_time": "2022-07-05T06:46:30.956Z"
      },
      {
        "duration": 9,
        "start_time": "2022-07-05T06:47:57.906Z"
      },
      {
        "duration": 6,
        "start_time": "2022-07-05T06:48:01.819Z"
      },
      {
        "duration": 4,
        "start_time": "2022-07-05T06:50:35.958Z"
      },
      {
        "duration": 7,
        "start_time": "2022-07-05T06:50:37.814Z"
      },
      {
        "duration": 9,
        "start_time": "2022-07-05T06:50:38.703Z"
      },
      {
        "duration": 19,
        "start_time": "2022-07-05T06:50:46.027Z"
      },
      {
        "duration": 4,
        "start_time": "2022-07-05T06:50:57.542Z"
      },
      {
        "duration": 8,
        "start_time": "2022-07-05T06:51:00.014Z"
      },
      {
        "duration": 6,
        "start_time": "2022-07-05T06:52:26.161Z"
      },
      {
        "duration": 14,
        "start_time": "2022-07-05T06:52:49.481Z"
      },
      {
        "duration": 1460,
        "start_time": "2022-07-05T06:54:05.692Z"
      },
      {
        "duration": 474,
        "start_time": "2022-07-05T06:54:07.155Z"
      },
      {
        "duration": 15,
        "start_time": "2022-07-05T06:54:07.631Z"
      },
      {
        "duration": 21,
        "start_time": "2022-07-05T06:54:07.648Z"
      },
      {
        "duration": 10,
        "start_time": "2022-07-05T06:54:07.671Z"
      },
      {
        "duration": 46,
        "start_time": "2022-07-05T06:54:07.683Z"
      },
      {
        "duration": 10,
        "start_time": "2022-07-05T06:54:07.730Z"
      },
      {
        "duration": 20,
        "start_time": "2022-07-05T06:54:07.742Z"
      },
      {
        "duration": 221,
        "start_time": "2022-07-05T06:54:07.763Z"
      },
      {
        "duration": 197,
        "start_time": "2022-07-05T06:54:07.986Z"
      },
      {
        "duration": 207,
        "start_time": "2022-07-05T06:54:08.185Z"
      },
      {
        "duration": 12,
        "start_time": "2022-07-05T06:54:08.394Z"
      },
      {
        "duration": 36,
        "start_time": "2022-07-05T06:54:08.408Z"
      },
      {
        "duration": 39,
        "start_time": "2022-07-05T06:54:08.447Z"
      },
      {
        "duration": 157,
        "start_time": "2022-07-05T06:54:08.487Z"
      },
      {
        "duration": 199,
        "start_time": "2022-07-05T06:54:08.646Z"
      },
      {
        "duration": 4,
        "start_time": "2022-07-05T06:54:08.925Z"
      },
      {
        "duration": 100,
        "start_time": "2022-07-05T06:54:08.931Z"
      },
      {
        "duration": 14,
        "start_time": "2022-07-05T06:54:09.033Z"
      },
      {
        "duration": 12,
        "start_time": "2022-07-05T06:54:09.049Z"
      },
      {
        "duration": 10,
        "start_time": "2022-07-05T06:54:09.063Z"
      },
      {
        "duration": 125,
        "start_time": "2022-07-05T06:54:09.074Z"
      },
      {
        "duration": 3,
        "start_time": "2022-07-05T06:56:06.650Z"
      },
      {
        "duration": 83,
        "start_time": "2022-07-05T06:56:15.987Z"
      },
      {
        "duration": 1330,
        "start_time": "2022-07-05T06:56:29.375Z"
      },
      {
        "duration": 110,
        "start_time": "2022-07-05T06:56:49.687Z"
      },
      {
        "duration": 17,
        "start_time": "2022-07-05T06:57:04.379Z"
      },
      {
        "duration": 1334,
        "start_time": "2022-07-05T06:58:08.261Z"
      },
      {
        "duration": 373,
        "start_time": "2022-07-05T06:58:09.598Z"
      },
      {
        "duration": 16,
        "start_time": "2022-07-05T06:58:09.973Z"
      },
      {
        "duration": 47,
        "start_time": "2022-07-05T06:58:09.991Z"
      },
      {
        "duration": 12,
        "start_time": "2022-07-05T06:58:10.040Z"
      },
      {
        "duration": 38,
        "start_time": "2022-07-05T06:58:10.055Z"
      },
      {
        "duration": 35,
        "start_time": "2022-07-05T06:58:10.095Z"
      },
      {
        "duration": 30,
        "start_time": "2022-07-05T06:58:10.132Z"
      },
      {
        "duration": 195,
        "start_time": "2022-07-05T06:58:10.164Z"
      },
      {
        "duration": 190,
        "start_time": "2022-07-05T06:58:10.362Z"
      },
      {
        "duration": 187,
        "start_time": "2022-07-05T06:58:10.554Z"
      },
      {
        "duration": 12,
        "start_time": "2022-07-05T06:58:10.743Z"
      },
      {
        "duration": 38,
        "start_time": "2022-07-05T06:58:10.757Z"
      },
      {
        "duration": 131,
        "start_time": "2022-07-05T06:58:10.797Z"
      },
      {
        "duration": 112,
        "start_time": "2022-07-05T06:58:10.932Z"
      },
      {
        "duration": 195,
        "start_time": "2022-07-05T06:58:11.046Z"
      },
      {
        "duration": 7,
        "start_time": "2022-07-05T06:58:11.326Z"
      },
      {
        "duration": 8,
        "start_time": "2022-07-05T06:58:11.424Z"
      },
      {
        "duration": 11,
        "start_time": "2022-07-05T06:58:11.434Z"
      },
      {
        "duration": 9,
        "start_time": "2022-07-05T06:58:11.447Z"
      },
      {
        "duration": 126,
        "start_time": "2022-07-05T06:58:11.458Z"
      },
      {
        "duration": 0,
        "start_time": "2022-07-05T06:58:11.586Z"
      },
      {
        "duration": 6,
        "start_time": "2022-07-05T06:58:37.480Z"
      },
      {
        "duration": 5,
        "start_time": "2022-07-05T06:58:56.920Z"
      },
      {
        "duration": 3,
        "start_time": "2022-07-05T06:59:09.801Z"
      },
      {
        "duration": 6,
        "start_time": "2022-07-05T06:59:11.691Z"
      },
      {
        "duration": 50,
        "start_time": "2022-07-05T07:15:10.091Z"
      },
      {
        "duration": 58,
        "start_time": "2022-07-05T07:15:50.075Z"
      },
      {
        "duration": 1417,
        "start_time": "2022-07-05T07:15:58.564Z"
      },
      {
        "duration": 383,
        "start_time": "2022-07-05T07:15:59.984Z"
      },
      {
        "duration": 14,
        "start_time": "2022-07-05T07:16:00.369Z"
      },
      {
        "duration": 23,
        "start_time": "2022-07-05T07:16:00.385Z"
      },
      {
        "duration": 18,
        "start_time": "2022-07-05T07:16:00.410Z"
      },
      {
        "duration": 34,
        "start_time": "2022-07-05T07:16:00.430Z"
      },
      {
        "duration": 16,
        "start_time": "2022-07-05T07:16:00.466Z"
      },
      {
        "duration": 26,
        "start_time": "2022-07-05T07:16:00.484Z"
      },
      {
        "duration": 228,
        "start_time": "2022-07-05T07:16:00.513Z"
      },
      {
        "duration": 237,
        "start_time": "2022-07-05T07:16:00.744Z"
      },
      {
        "duration": 235,
        "start_time": "2022-07-05T07:16:00.984Z"
      },
      {
        "duration": 13,
        "start_time": "2022-07-05T07:16:01.223Z"
      },
      {
        "duration": 109,
        "start_time": "2022-07-05T07:16:01.239Z"
      },
      {
        "duration": 73,
        "start_time": "2022-07-05T07:16:01.350Z"
      },
      {
        "duration": 208,
        "start_time": "2022-07-05T07:16:01.426Z"
      },
      {
        "duration": 113,
        "start_time": "2022-07-05T07:16:01.637Z"
      },
      {
        "duration": 79,
        "start_time": "2022-07-05T07:16:01.752Z"
      },
      {
        "duration": 111,
        "start_time": "2022-07-05T07:16:01.834Z"
      },
      {
        "duration": 22,
        "start_time": "2022-07-05T07:16:01.947Z"
      },
      {
        "duration": 17,
        "start_time": "2022-07-05T07:16:01.971Z"
      },
      {
        "duration": 13,
        "start_time": "2022-07-05T07:16:01.990Z"
      },
      {
        "duration": 47,
        "start_time": "2022-07-05T07:16:02.005Z"
      },
      {
        "duration": 126,
        "start_time": "2022-07-05T07:16:32.658Z"
      },
      {
        "duration": 70,
        "start_time": "2022-07-05T07:17:02.434Z"
      },
      {
        "duration": 8,
        "start_time": "2022-07-05T07:17:25.468Z"
      },
      {
        "duration": 114,
        "start_time": "2022-07-05T07:17:46.115Z"
      },
      {
        "duration": 24,
        "start_time": "2022-07-05T07:17:58.702Z"
      },
      {
        "duration": 48,
        "start_time": "2022-07-05T07:19:16.968Z"
      },
      {
        "duration": 17,
        "start_time": "2022-07-05T07:19:23.692Z"
      },
      {
        "duration": 18,
        "start_time": "2022-07-05T07:21:17.902Z"
      },
      {
        "duration": 1506,
        "start_time": "2022-07-05T07:21:33.394Z"
      },
      {
        "duration": 431,
        "start_time": "2022-07-05T07:21:34.904Z"
      },
      {
        "duration": 19,
        "start_time": "2022-07-05T07:21:35.338Z"
      },
      {
        "duration": 29,
        "start_time": "2022-07-05T07:21:35.360Z"
      },
      {
        "duration": 11,
        "start_time": "2022-07-05T07:21:35.393Z"
      },
      {
        "duration": 48,
        "start_time": "2022-07-05T07:21:35.406Z"
      },
      {
        "duration": 19,
        "start_time": "2022-07-05T07:21:35.456Z"
      },
      {
        "duration": 43,
        "start_time": "2022-07-05T07:21:35.477Z"
      },
      {
        "duration": 245,
        "start_time": "2022-07-05T07:21:35.522Z"
      },
      {
        "duration": 229,
        "start_time": "2022-07-05T07:21:35.770Z"
      },
      {
        "duration": 203,
        "start_time": "2022-07-05T07:21:36.001Z"
      },
      {
        "duration": 19,
        "start_time": "2022-07-05T07:21:36.206Z"
      },
      {
        "duration": 32,
        "start_time": "2022-07-05T07:21:36.227Z"
      },
      {
        "duration": 85,
        "start_time": "2022-07-05T07:21:36.261Z"
      },
      {
        "duration": 182,
        "start_time": "2022-07-05T07:21:36.351Z"
      },
      {
        "duration": 186,
        "start_time": "2022-07-05T07:21:36.539Z"
      },
      {
        "duration": 4,
        "start_time": "2022-07-05T07:21:36.727Z"
      },
      {
        "duration": 114,
        "start_time": "2022-07-05T07:21:36.734Z"
      },
      {
        "duration": 17,
        "start_time": "2022-07-05T07:21:36.850Z"
      },
      {
        "duration": 11,
        "start_time": "2022-07-05T07:21:36.869Z"
      },
      {
        "duration": 10,
        "start_time": "2022-07-05T07:21:36.882Z"
      },
      {
        "duration": 127,
        "start_time": "2022-07-05T07:21:36.894Z"
      },
      {
        "duration": 17,
        "start_time": "2022-07-05T07:23:28.881Z"
      },
      {
        "duration": 18,
        "start_time": "2022-07-05T07:26:01.353Z"
      },
      {
        "duration": 17,
        "start_time": "2022-07-05T07:27:40.546Z"
      },
      {
        "duration": 1327,
        "start_time": "2022-07-05T07:27:49.180Z"
      },
      {
        "duration": 347,
        "start_time": "2022-07-05T07:27:50.509Z"
      },
      {
        "duration": 12,
        "start_time": "2022-07-05T07:27:50.860Z"
      },
      {
        "duration": 24,
        "start_time": "2022-07-05T07:27:50.874Z"
      },
      {
        "duration": 25,
        "start_time": "2022-07-05T07:27:50.900Z"
      },
      {
        "duration": 23,
        "start_time": "2022-07-05T07:27:50.927Z"
      },
      {
        "duration": 10,
        "start_time": "2022-07-05T07:27:50.952Z"
      },
      {
        "duration": 24,
        "start_time": "2022-07-05T07:27:50.964Z"
      },
      {
        "duration": 217,
        "start_time": "2022-07-05T07:27:50.992Z"
      },
      {
        "duration": 219,
        "start_time": "2022-07-05T07:27:51.211Z"
      },
      {
        "duration": 182,
        "start_time": "2022-07-05T07:27:51.431Z"
      },
      {
        "duration": 16,
        "start_time": "2022-07-05T07:27:51.615Z"
      },
      {
        "duration": 11,
        "start_time": "2022-07-05T07:27:51.633Z"
      },
      {
        "duration": 77,
        "start_time": "2022-07-05T07:27:51.646Z"
      },
      {
        "duration": 118,
        "start_time": "2022-07-05T07:27:51.726Z"
      },
      {
        "duration": 189,
        "start_time": "2022-07-05T07:27:51.847Z"
      },
      {
        "duration": 3,
        "start_time": "2022-07-05T07:27:52.039Z"
      },
      {
        "duration": 10,
        "start_time": "2022-07-05T07:27:52.126Z"
      },
      {
        "duration": 11,
        "start_time": "2022-07-05T07:27:52.223Z"
      },
      {
        "duration": 8,
        "start_time": "2022-07-05T07:27:52.235Z"
      },
      {
        "duration": 6,
        "start_time": "2022-07-05T07:27:52.245Z"
      },
      {
        "duration": 144,
        "start_time": "2022-07-05T07:27:52.253Z"
      },
      {
        "duration": 17,
        "start_time": "2022-07-05T07:31:36.167Z"
      },
      {
        "duration": 89,
        "start_time": "2022-07-05T07:31:45.094Z"
      },
      {
        "duration": 1268,
        "start_time": "2022-07-05T07:31:55.695Z"
      },
      {
        "duration": 18,
        "start_time": "2022-07-05T07:32:11.928Z"
      },
      {
        "duration": 711,
        "start_time": "2022-07-05T07:32:28.391Z"
      },
      {
        "duration": 6,
        "start_time": "2022-07-05T07:32:45.423Z"
      },
      {
        "duration": 15,
        "start_time": "2022-07-05T07:33:05.287Z"
      },
      {
        "duration": 82,
        "start_time": "2022-07-05T07:33:32.647Z"
      },
      {
        "duration": 5,
        "start_time": "2022-07-05T07:33:37.072Z"
      },
      {
        "duration": 33,
        "start_time": "2022-07-05T07:33:37.639Z"
      },
      {
        "duration": 6,
        "start_time": "2022-07-05T07:33:46.303Z"
      },
      {
        "duration": 25,
        "start_time": "2022-07-05T07:33:51.235Z"
      },
      {
        "duration": 23,
        "start_time": "2022-07-05T07:36:46.317Z"
      },
      {
        "duration": 19,
        "start_time": "2022-07-05T07:36:55.378Z"
      },
      {
        "duration": 17,
        "start_time": "2022-07-05T07:36:59.540Z"
      },
      {
        "duration": 17,
        "start_time": "2022-07-05T07:39:20.053Z"
      },
      {
        "duration": 675,
        "start_time": "2022-07-05T07:39:28.756Z"
      },
      {
        "duration": 21,
        "start_time": "2022-07-05T07:39:57.389Z"
      },
      {
        "duration": 1355,
        "start_time": "2022-07-05T07:48:25.281Z"
      },
      {
        "duration": 366,
        "start_time": "2022-07-05T07:48:26.638Z"
      },
      {
        "duration": 13,
        "start_time": "2022-07-05T07:48:27.006Z"
      },
      {
        "duration": 23,
        "start_time": "2022-07-05T07:48:27.023Z"
      },
      {
        "duration": 9,
        "start_time": "2022-07-05T07:48:27.048Z"
      },
      {
        "duration": 19,
        "start_time": "2022-07-05T07:48:27.059Z"
      },
      {
        "duration": 11,
        "start_time": "2022-07-05T07:48:27.079Z"
      },
      {
        "duration": 41,
        "start_time": "2022-07-05T07:48:27.092Z"
      },
      {
        "duration": 221,
        "start_time": "2022-07-05T07:48:27.135Z"
      },
      {
        "duration": 243,
        "start_time": "2022-07-05T07:48:27.359Z"
      },
      {
        "duration": 223,
        "start_time": "2022-07-05T07:48:27.605Z"
      },
      {
        "duration": 15,
        "start_time": "2022-07-05T07:48:27.830Z"
      },
      {
        "duration": 7,
        "start_time": "2022-07-05T07:48:27.847Z"
      },
      {
        "duration": 73,
        "start_time": "2022-07-05T07:48:27.855Z"
      },
      {
        "duration": 413,
        "start_time": "2022-07-05T07:48:27.931Z"
      },
      {
        "duration": 0,
        "start_time": "2022-07-05T07:48:28.346Z"
      },
      {
        "duration": 0,
        "start_time": "2022-07-05T07:48:28.348Z"
      },
      {
        "duration": 0,
        "start_time": "2022-07-05T07:48:28.350Z"
      },
      {
        "duration": 0,
        "start_time": "2022-07-05T07:48:28.351Z"
      },
      {
        "duration": 0,
        "start_time": "2022-07-05T07:48:28.353Z"
      },
      {
        "duration": 0,
        "start_time": "2022-07-05T07:48:28.354Z"
      },
      {
        "duration": 0,
        "start_time": "2022-07-05T07:48:28.355Z"
      },
      {
        "duration": 0,
        "start_time": "2022-07-05T07:48:28.356Z"
      },
      {
        "duration": 1459,
        "start_time": "2022-07-05T07:48:56.352Z"
      },
      {
        "duration": 364,
        "start_time": "2022-07-05T07:48:57.814Z"
      },
      {
        "duration": 14,
        "start_time": "2022-07-05T07:48:58.180Z"
      },
      {
        "duration": 29,
        "start_time": "2022-07-05T07:48:58.196Z"
      },
      {
        "duration": 9,
        "start_time": "2022-07-05T07:48:58.226Z"
      },
      {
        "duration": 20,
        "start_time": "2022-07-05T07:48:58.237Z"
      },
      {
        "duration": 14,
        "start_time": "2022-07-05T07:48:58.259Z"
      },
      {
        "duration": 17,
        "start_time": "2022-07-05T07:48:58.275Z"
      },
      {
        "duration": 220,
        "start_time": "2022-07-05T07:48:58.294Z"
      },
      {
        "duration": 218,
        "start_time": "2022-07-05T07:48:58.523Z"
      },
      {
        "duration": 193,
        "start_time": "2022-07-05T07:48:58.742Z"
      },
      {
        "duration": 11,
        "start_time": "2022-07-05T07:48:58.937Z"
      },
      {
        "duration": 11,
        "start_time": "2022-07-05T07:48:58.950Z"
      },
      {
        "duration": 64,
        "start_time": "2022-07-05T07:48:58.962Z"
      },
      {
        "duration": 124,
        "start_time": "2022-07-05T07:48:59.028Z"
      },
      {
        "duration": 180,
        "start_time": "2022-07-05T07:48:59.154Z"
      },
      {
        "duration": 90,
        "start_time": "2022-07-05T07:48:59.336Z"
      },
      {
        "duration": 97,
        "start_time": "2022-07-05T07:48:59.429Z"
      },
      {
        "duration": 9,
        "start_time": "2022-07-05T07:48:59.527Z"
      },
      {
        "duration": 8,
        "start_time": "2022-07-05T07:48:59.537Z"
      },
      {
        "duration": 12,
        "start_time": "2022-07-05T07:48:59.546Z"
      },
      {
        "duration": 106,
        "start_time": "2022-07-05T07:48:59.559Z"
      },
      {
        "duration": 0,
        "start_time": "2022-07-05T07:48:59.667Z"
      },
      {
        "duration": 23,
        "start_time": "2022-07-05T07:49:14.236Z"
      },
      {
        "duration": 7,
        "start_time": "2022-07-05T07:49:29.109Z"
      },
      {
        "duration": 3,
        "start_time": "2022-07-05T07:49:31.469Z"
      },
      {
        "duration": 17,
        "start_time": "2022-07-05T07:49:43.030Z"
      },
      {
        "duration": 6,
        "start_time": "2022-07-05T07:54:49.389Z"
      },
      {
        "duration": 42,
        "start_time": "2022-07-05T07:54:50.005Z"
      },
      {
        "duration": 11,
        "start_time": "2022-07-05T07:54:59.412Z"
      },
      {
        "duration": 3,
        "start_time": "2022-07-05T07:55:08.172Z"
      },
      {
        "duration": 22,
        "start_time": "2022-07-05T07:55:09.783Z"
      },
      {
        "duration": 13,
        "start_time": "2022-07-05T07:55:27.956Z"
      },
      {
        "duration": 9,
        "start_time": "2022-07-05T07:55:57.845Z"
      },
      {
        "duration": 100,
        "start_time": "2022-07-05T07:56:17.525Z"
      },
      {
        "duration": 11,
        "start_time": "2022-07-05T07:56:23.886Z"
      },
      {
        "duration": 14,
        "start_time": "2022-07-05T07:56:39.343Z"
      },
      {
        "duration": 5,
        "start_time": "2022-07-05T07:56:46.326Z"
      },
      {
        "duration": 33,
        "start_time": "2022-07-05T07:56:46.990Z"
      },
      {
        "duration": 5,
        "start_time": "2022-07-05T07:56:52.414Z"
      },
      {
        "duration": 14,
        "start_time": "2022-07-05T07:56:56.319Z"
      },
      {
        "duration": 14,
        "start_time": "2022-07-05T07:57:01.936Z"
      },
      {
        "duration": 6,
        "start_time": "2022-07-05T07:57:31.823Z"
      },
      {
        "duration": 33,
        "start_time": "2022-07-05T07:57:32.310Z"
      },
      {
        "duration": 5,
        "start_time": "2022-07-05T07:57:36.147Z"
      },
      {
        "duration": 5,
        "start_time": "2022-07-05T07:57:37.223Z"
      },
      {
        "duration": 5,
        "start_time": "2022-07-05T07:57:42.152Z"
      },
      {
        "duration": 6,
        "start_time": "2022-07-05T07:58:03.639Z"
      },
      {
        "duration": 3,
        "start_time": "2022-07-05T07:58:04.784Z"
      },
      {
        "duration": 6,
        "start_time": "2022-07-05T07:58:05.603Z"
      },
      {
        "duration": 6,
        "start_time": "2022-07-05T07:58:08.280Z"
      },
      {
        "duration": 6,
        "start_time": "2022-07-05T07:58:29.152Z"
      },
      {
        "duration": 18,
        "start_time": "2022-07-05T07:58:30.576Z"
      },
      {
        "duration": 4,
        "start_time": "2022-07-05T08:25:41.004Z"
      },
      {
        "duration": 15,
        "start_time": "2022-07-05T08:25:49.492Z"
      },
      {
        "duration": 13,
        "start_time": "2022-07-05T08:26:52.845Z"
      },
      {
        "duration": 9,
        "start_time": "2022-07-05T08:27:12.774Z"
      },
      {
        "duration": 17,
        "start_time": "2022-07-05T08:27:38.807Z"
      },
      {
        "duration": 1422,
        "start_time": "2022-07-05T08:27:54.631Z"
      },
      {
        "duration": 376,
        "start_time": "2022-07-05T08:27:56.055Z"
      },
      {
        "duration": 14,
        "start_time": "2022-07-05T08:27:56.433Z"
      },
      {
        "duration": 17,
        "start_time": "2022-07-05T08:27:56.450Z"
      },
      {
        "duration": 12,
        "start_time": "2022-07-05T08:27:56.469Z"
      },
      {
        "duration": 48,
        "start_time": "2022-07-05T08:27:56.483Z"
      },
      {
        "duration": 11,
        "start_time": "2022-07-05T08:27:56.534Z"
      },
      {
        "duration": 27,
        "start_time": "2022-07-05T08:27:56.547Z"
      },
      {
        "duration": 222,
        "start_time": "2022-07-05T08:27:56.576Z"
      },
      {
        "duration": 203,
        "start_time": "2022-07-05T08:27:56.800Z"
      },
      {
        "duration": 219,
        "start_time": "2022-07-05T08:27:57.005Z"
      },
      {
        "duration": 16,
        "start_time": "2022-07-05T08:27:57.225Z"
      },
      {
        "duration": 20,
        "start_time": "2022-07-05T08:27:57.243Z"
      },
      {
        "duration": 167,
        "start_time": "2022-07-05T08:27:57.266Z"
      },
      {
        "duration": 116,
        "start_time": "2022-07-05T08:27:57.436Z"
      },
      {
        "duration": 116,
        "start_time": "2022-07-05T08:27:57.623Z"
      },
      {
        "duration": 82,
        "start_time": "2022-07-05T08:27:57.741Z"
      },
      {
        "duration": 104,
        "start_time": "2022-07-05T08:27:57.827Z"
      },
      {
        "duration": 13,
        "start_time": "2022-07-05T08:27:57.933Z"
      },
      {
        "duration": 8,
        "start_time": "2022-07-05T08:27:57.948Z"
      },
      {
        "duration": 7,
        "start_time": "2022-07-05T08:27:57.958Z"
      },
      {
        "duration": 7,
        "start_time": "2022-07-05T08:27:57.967Z"
      },
      {
        "duration": 11,
        "start_time": "2022-07-05T08:27:57.977Z"
      },
      {
        "duration": 144,
        "start_time": "2022-07-05T08:27:57.990Z"
      },
      {
        "duration": 0,
        "start_time": "2022-07-05T08:27:58.137Z"
      },
      {
        "duration": 7,
        "start_time": "2022-07-05T08:28:17.527Z"
      },
      {
        "duration": 10,
        "start_time": "2022-07-05T08:28:26.041Z"
      },
      {
        "duration": 4,
        "start_time": "2022-07-05T08:28:49.216Z"
      },
      {
        "duration": 3,
        "start_time": "2022-07-05T08:28:51.447Z"
      },
      {
        "duration": 7,
        "start_time": "2022-07-05T08:28:55.151Z"
      },
      {
        "duration": 1914,
        "start_time": "2022-07-05T08:28:57.031Z"
      },
      {
        "duration": 1302,
        "start_time": "2022-07-05T08:29:49.570Z"
      },
      {
        "duration": 6,
        "start_time": "2022-07-05T08:30:00.497Z"
      },
      {
        "duration": 1400,
        "start_time": "2022-07-05T08:30:17.945Z"
      },
      {
        "duration": 1294,
        "start_time": "2022-07-05T08:30:32.706Z"
      },
      {
        "duration": 1339,
        "start_time": "2022-07-05T08:30:47.371Z"
      },
      {
        "duration": 7,
        "start_time": "2022-07-05T08:35:21.871Z"
      },
      {
        "duration": 7,
        "start_time": "2022-07-05T08:35:25.728Z"
      },
      {
        "duration": 8,
        "start_time": "2022-07-05T08:35:52.886Z"
      },
      {
        "duration": 1352,
        "start_time": "2022-07-05T08:35:53.632Z"
      },
      {
        "duration": 8,
        "start_time": "2022-07-05T08:36:30.489Z"
      },
      {
        "duration": 1309,
        "start_time": "2022-07-05T08:36:31.649Z"
      },
      {
        "duration": 1274,
        "start_time": "2022-07-05T08:37:21.361Z"
      },
      {
        "duration": 6,
        "start_time": "2022-07-05T08:37:24.465Z"
      },
      {
        "duration": 1323,
        "start_time": "2022-07-05T08:37:25.369Z"
      },
      {
        "duration": 7,
        "start_time": "2022-07-05T08:52:57.754Z"
      },
      {
        "duration": 1309,
        "start_time": "2022-07-05T08:52:58.466Z"
      },
      {
        "duration": 7,
        "start_time": "2022-07-05T08:54:43.973Z"
      },
      {
        "duration": 5,
        "start_time": "2022-07-05T08:55:25.221Z"
      },
      {
        "duration": 1342,
        "start_time": "2022-07-05T08:55:26.023Z"
      },
      {
        "duration": 12,
        "start_time": "2022-07-05T08:55:44.566Z"
      },
      {
        "duration": 1470,
        "start_time": "2022-07-05T08:55:46.445Z"
      },
      {
        "duration": 6,
        "start_time": "2022-07-05T08:59:32.344Z"
      },
      {
        "duration": 1361,
        "start_time": "2022-07-05T08:59:33.583Z"
      },
      {
        "duration": 6,
        "start_time": "2022-07-05T09:01:55.838Z"
      },
      {
        "duration": 1382,
        "start_time": "2022-07-05T09:01:56.935Z"
      },
      {
        "duration": 7,
        "start_time": "2022-07-05T09:24:49.268Z"
      },
      {
        "duration": 1337,
        "start_time": "2022-07-05T09:24:50.155Z"
      },
      {
        "duration": 9,
        "start_time": "2022-07-05T09:25:10.645Z"
      },
      {
        "duration": 1313,
        "start_time": "2022-07-05T09:25:11.641Z"
      },
      {
        "duration": 3,
        "start_time": "2022-07-05T09:26:18.359Z"
      },
      {
        "duration": 7,
        "start_time": "2022-07-05T09:26:23.870Z"
      },
      {
        "duration": 1319,
        "start_time": "2022-07-05T09:26:24.846Z"
      },
      {
        "duration": 6,
        "start_time": "2022-07-05T09:29:21.713Z"
      },
      {
        "duration": 1346,
        "start_time": "2022-07-05T09:29:22.434Z"
      },
      {
        "duration": 7,
        "start_time": "2022-07-05T09:29:38.979Z"
      },
      {
        "duration": 1285,
        "start_time": "2022-07-05T09:29:39.633Z"
      },
      {
        "duration": 6,
        "start_time": "2022-07-05T09:30:38.438Z"
      },
      {
        "duration": 1389,
        "start_time": "2022-07-05T09:30:39.401Z"
      },
      {
        "duration": 8,
        "start_time": "2022-07-05T09:32:38.653Z"
      },
      {
        "duration": 1368,
        "start_time": "2022-07-05T09:32:39.278Z"
      },
      {
        "duration": 6,
        "start_time": "2022-07-05T09:34:37.711Z"
      },
      {
        "duration": 1299,
        "start_time": "2022-07-05T09:34:38.806Z"
      },
      {
        "duration": 7,
        "start_time": "2022-07-05T09:36:27.592Z"
      },
      {
        "duration": 1550,
        "start_time": "2022-07-05T09:36:28.534Z"
      },
      {
        "duration": 134,
        "start_time": "2022-07-05T09:37:18.961Z"
      },
      {
        "duration": 8,
        "start_time": "2022-07-05T09:37:24.571Z"
      },
      {
        "duration": 1653,
        "start_time": "2022-07-05T09:37:27.281Z"
      },
      {
        "duration": 7,
        "start_time": "2022-07-05T09:37:35.778Z"
      },
      {
        "duration": 1625,
        "start_time": "2022-07-05T09:37:37.810Z"
      },
      {
        "duration": 12,
        "start_time": "2022-07-05T09:38:40.275Z"
      },
      {
        "duration": 1478,
        "start_time": "2022-07-05T09:38:41.003Z"
      },
      {
        "duration": 4,
        "start_time": "2022-07-05T09:46:32.767Z"
      },
      {
        "duration": 7,
        "start_time": "2022-07-05T09:46:47.486Z"
      },
      {
        "duration": 4,
        "start_time": "2022-07-05T09:46:50.972Z"
      },
      {
        "duration": 5,
        "start_time": "2022-07-05T09:46:58.452Z"
      },
      {
        "duration": 39,
        "start_time": "2022-07-05T09:47:07.709Z"
      },
      {
        "duration": 28,
        "start_time": "2022-07-05T09:47:08.692Z"
      },
      {
        "duration": 25,
        "start_time": "2022-07-05T09:47:09.588Z"
      },
      {
        "duration": 6,
        "start_time": "2022-07-05T09:47:14.308Z"
      },
      {
        "duration": 3,
        "start_time": "2022-07-05T09:47:16.804Z"
      },
      {
        "duration": 4,
        "start_time": "2022-07-05T09:47:20.468Z"
      },
      {
        "duration": 5,
        "start_time": "2022-07-05T09:47:24.149Z"
      },
      {
        "duration": 1324,
        "start_time": "2022-07-05T09:47:34.995Z"
      },
      {
        "duration": 354,
        "start_time": "2022-07-05T09:47:36.323Z"
      },
      {
        "duration": 13,
        "start_time": "2022-07-05T09:47:36.678Z"
      },
      {
        "duration": 16,
        "start_time": "2022-07-05T09:47:36.693Z"
      },
      {
        "duration": 25,
        "start_time": "2022-07-05T09:47:36.710Z"
      },
      {
        "duration": 17,
        "start_time": "2022-07-05T09:47:36.738Z"
      },
      {
        "duration": 10,
        "start_time": "2022-07-05T09:47:36.756Z"
      },
      {
        "duration": 16,
        "start_time": "2022-07-05T09:47:36.768Z"
      },
      {
        "duration": 195,
        "start_time": "2022-07-05T09:47:36.786Z"
      },
      {
        "duration": 190,
        "start_time": "2022-07-05T09:47:36.983Z"
      },
      {
        "duration": 229,
        "start_time": "2022-07-05T09:47:37.175Z"
      },
      {
        "duration": 31,
        "start_time": "2022-07-05T09:47:37.406Z"
      },
      {
        "duration": 18,
        "start_time": "2022-07-05T09:47:37.439Z"
      },
      {
        "duration": 71,
        "start_time": "2022-07-05T09:47:37.458Z"
      },
      {
        "duration": 113,
        "start_time": "2022-07-05T09:47:37.531Z"
      },
      {
        "duration": 189,
        "start_time": "2022-07-05T09:47:37.646Z"
      },
      {
        "duration": 92,
        "start_time": "2022-07-05T09:47:37.837Z"
      },
      {
        "duration": 114,
        "start_time": "2022-07-05T09:47:37.930Z"
      },
      {
        "duration": 18,
        "start_time": "2022-07-05T09:47:38.045Z"
      },
      {
        "duration": 7,
        "start_time": "2022-07-05T09:47:38.064Z"
      },
      {
        "duration": 7,
        "start_time": "2022-07-05T09:47:38.073Z"
      },
      {
        "duration": 111,
        "start_time": "2022-07-05T09:47:38.081Z"
      },
      {
        "duration": 4,
        "start_time": "2022-07-05T09:48:22.713Z"
      },
      {
        "duration": 5,
        "start_time": "2022-07-05T09:48:33.062Z"
      },
      {
        "duration": 32,
        "start_time": "2022-07-05T09:48:34.114Z"
      },
      {
        "duration": 16,
        "start_time": "2022-07-05T09:48:55.923Z"
      },
      {
        "duration": 4,
        "start_time": "2022-07-05T09:49:08.959Z"
      },
      {
        "duration": 4,
        "start_time": "2022-07-05T09:49:13.434Z"
      },
      {
        "duration": 9,
        "start_time": "2022-07-05T09:53:51.867Z"
      },
      {
        "duration": 3,
        "start_time": "2022-07-05T09:54:06.095Z"
      },
      {
        "duration": 4,
        "start_time": "2022-07-05T09:54:07.571Z"
      },
      {
        "duration": 5,
        "start_time": "2022-07-05T09:54:09.170Z"
      },
      {
        "duration": 3,
        "start_time": "2022-07-05T09:54:23.920Z"
      },
      {
        "duration": 6,
        "start_time": "2022-07-05T09:54:29.625Z"
      },
      {
        "duration": 3,
        "start_time": "2022-07-05T09:54:50.112Z"
      },
      {
        "duration": 3,
        "start_time": "2022-07-05T09:55:05.137Z"
      },
      {
        "duration": 4,
        "start_time": "2022-07-05T09:55:07.090Z"
      },
      {
        "duration": 4,
        "start_time": "2022-07-05T09:55:48.410Z"
      },
      {
        "duration": 5,
        "start_time": "2022-07-05T09:55:55.697Z"
      },
      {
        "duration": 4,
        "start_time": "2022-07-05T09:56:16.200Z"
      },
      {
        "duration": 9,
        "start_time": "2022-07-05T09:56:33.419Z"
      },
      {
        "duration": 1408,
        "start_time": "2022-07-05T09:56:46.371Z"
      },
      {
        "duration": 7,
        "start_time": "2022-07-05T09:57:02.716Z"
      },
      {
        "duration": 1286,
        "start_time": "2022-07-05T09:57:48.901Z"
      },
      {
        "duration": 7,
        "start_time": "2022-07-05T09:58:22.894Z"
      },
      {
        "duration": 1575,
        "start_time": "2022-07-05T09:58:24.071Z"
      },
      {
        "duration": 1611,
        "start_time": "2022-07-05T09:59:04.042Z"
      },
      {
        "duration": 9,
        "start_time": "2022-07-05T09:59:22.783Z"
      },
      {
        "duration": 1518,
        "start_time": "2022-07-05T09:59:27.840Z"
      },
      {
        "duration": 7,
        "start_time": "2022-07-05T10:21:23.381Z"
      },
      {
        "duration": 1665,
        "start_time": "2022-07-05T10:21:24.095Z"
      },
      {
        "duration": 1573,
        "start_time": "2022-07-05T10:21:34.569Z"
      },
      {
        "duration": 1682,
        "start_time": "2022-07-05T10:21:37.828Z"
      },
      {
        "duration": 8,
        "start_time": "2022-07-05T10:29:01.214Z"
      },
      {
        "duration": 1650,
        "start_time": "2022-07-05T10:29:01.868Z"
      },
      {
        "duration": 7,
        "start_time": "2022-07-05T10:29:22.738Z"
      },
      {
        "duration": 1564,
        "start_time": "2022-07-05T10:29:24.094Z"
      },
      {
        "duration": 8,
        "start_time": "2022-07-05T10:29:41.035Z"
      },
      {
        "duration": 1566,
        "start_time": "2022-07-05T10:29:41.510Z"
      },
      {
        "duration": 10,
        "start_time": "2022-07-05T10:29:48.478Z"
      },
      {
        "duration": 1561,
        "start_time": "2022-07-05T10:29:52.386Z"
      },
      {
        "duration": 1666,
        "start_time": "2022-07-05T10:30:03.422Z"
      },
      {
        "duration": 1698,
        "start_time": "2022-07-05T10:30:06.168Z"
      },
      {
        "duration": 10,
        "start_time": "2022-07-05T10:36:04.356Z"
      },
      {
        "duration": 1706,
        "start_time": "2022-07-05T10:36:05.987Z"
      },
      {
        "duration": 7,
        "start_time": "2022-07-05T10:36:26.183Z"
      },
      {
        "duration": 1551,
        "start_time": "2022-07-05T10:36:30.204Z"
      },
      {
        "duration": 6,
        "start_time": "2022-07-05T10:36:41.072Z"
      },
      {
        "duration": 1688,
        "start_time": "2022-07-05T10:36:41.877Z"
      },
      {
        "duration": 1658,
        "start_time": "2022-07-05T13:15:51.317Z"
      },
      {
        "duration": 776,
        "start_time": "2022-07-05T13:15:52.977Z"
      },
      {
        "duration": 21,
        "start_time": "2022-07-05T13:15:53.755Z"
      },
      {
        "duration": 27,
        "start_time": "2022-07-05T13:15:53.778Z"
      },
      {
        "duration": 13,
        "start_time": "2022-07-05T13:15:53.807Z"
      },
      {
        "duration": 39,
        "start_time": "2022-07-05T13:15:53.822Z"
      },
      {
        "duration": 11,
        "start_time": "2022-07-05T13:15:53.863Z"
      },
      {
        "duration": 21,
        "start_time": "2022-07-05T13:15:53.876Z"
      },
      {
        "duration": 203,
        "start_time": "2022-07-05T13:15:53.898Z"
      },
      {
        "duration": 199,
        "start_time": "2022-07-05T13:15:54.103Z"
      },
      {
        "duration": 215,
        "start_time": "2022-07-05T13:15:54.304Z"
      },
      {
        "duration": 13,
        "start_time": "2022-07-05T13:15:54.521Z"
      },
      {
        "duration": 9,
        "start_time": "2022-07-05T13:15:54.536Z"
      },
      {
        "duration": 116,
        "start_time": "2022-07-05T13:15:54.547Z"
      },
      {
        "duration": 120,
        "start_time": "2022-07-05T13:15:54.665Z"
      },
      {
        "duration": 198,
        "start_time": "2022-07-05T13:15:54.788Z"
      },
      {
        "duration": 77,
        "start_time": "2022-07-05T13:15:54.988Z"
      },
      {
        "duration": 112,
        "start_time": "2022-07-05T13:15:55.069Z"
      },
      {
        "duration": 5,
        "start_time": "2022-07-05T13:15:55.184Z"
      },
      {
        "duration": 6,
        "start_time": "2022-07-05T13:15:55.190Z"
      },
      {
        "duration": 8,
        "start_time": "2022-07-05T13:15:55.197Z"
      },
      {
        "duration": 7,
        "start_time": "2022-07-05T13:15:55.206Z"
      },
      {
        "duration": 1688,
        "start_time": "2022-07-05T13:15:55.215Z"
      },
      {
        "duration": 1645,
        "start_time": "2022-07-05T13:15:56.905Z"
      },
      {
        "duration": 1545,
        "start_time": "2022-07-05T13:15:58.562Z"
      },
      {
        "duration": 1691,
        "start_time": "2022-07-05T13:17:43.465Z"
      },
      {
        "duration": 461,
        "start_time": "2022-07-05T13:17:45.158Z"
      },
      {
        "duration": 15,
        "start_time": "2022-07-05T13:17:45.621Z"
      },
      {
        "duration": 16,
        "start_time": "2022-07-05T13:17:45.639Z"
      },
      {
        "duration": 12,
        "start_time": "2022-07-05T13:17:45.666Z"
      },
      {
        "duration": 28,
        "start_time": "2022-07-05T13:17:45.682Z"
      },
      {
        "duration": 10,
        "start_time": "2022-07-05T13:17:45.712Z"
      },
      {
        "duration": 16,
        "start_time": "2022-07-05T13:17:45.724Z"
      },
      {
        "duration": 239,
        "start_time": "2022-07-05T13:17:45.742Z"
      },
      {
        "duration": 255,
        "start_time": "2022-07-05T13:17:45.985Z"
      },
      {
        "duration": 245,
        "start_time": "2022-07-05T13:17:46.243Z"
      },
      {
        "duration": 15,
        "start_time": "2022-07-05T13:17:46.489Z"
      },
      {
        "duration": 10,
        "start_time": "2022-07-05T13:17:46.507Z"
      },
      {
        "duration": 55,
        "start_time": "2022-07-05T13:17:46.519Z"
      },
      {
        "duration": 187,
        "start_time": "2022-07-05T13:17:46.575Z"
      },
      {
        "duration": 110,
        "start_time": "2022-07-05T13:17:46.764Z"
      },
      {
        "duration": 121,
        "start_time": "2022-07-05T13:17:46.876Z"
      },
      {
        "duration": 7,
        "start_time": "2022-07-05T13:17:47.000Z"
      },
      {
        "duration": 5,
        "start_time": "2022-07-05T13:17:47.009Z"
      },
      {
        "duration": 6,
        "start_time": "2022-07-05T13:17:47.016Z"
      },
      {
        "duration": 59,
        "start_time": "2022-07-05T13:17:47.024Z"
      },
      {
        "duration": 1712,
        "start_time": "2022-07-05T13:17:47.088Z"
      },
      {
        "duration": 1846,
        "start_time": "2022-07-05T13:17:48.802Z"
      },
      {
        "duration": 1727,
        "start_time": "2022-07-05T13:17:50.649Z"
      },
      {
        "duration": 49,
        "start_time": "2022-07-06T07:32:07.448Z"
      },
      {
        "duration": 1571,
        "start_time": "2022-07-06T07:32:15.256Z"
      },
      {
        "duration": 1537,
        "start_time": "2022-07-06T07:32:16.829Z"
      },
      {
        "duration": 14,
        "start_time": "2022-07-06T07:32:18.368Z"
      },
      {
        "duration": 13,
        "start_time": "2022-07-06T07:32:18.384Z"
      },
      {
        "duration": 8,
        "start_time": "2022-07-06T07:32:18.399Z"
      },
      {
        "duration": 13,
        "start_time": "2022-07-06T07:32:18.409Z"
      },
      {
        "duration": 9,
        "start_time": "2022-07-06T07:32:18.423Z"
      },
      {
        "duration": 29,
        "start_time": "2022-07-06T07:32:18.434Z"
      },
      {
        "duration": 205,
        "start_time": "2022-07-06T07:32:18.465Z"
      },
      {
        "duration": 179,
        "start_time": "2022-07-06T07:32:18.673Z"
      },
      {
        "duration": 170,
        "start_time": "2022-07-06T07:32:18.854Z"
      },
      {
        "duration": 12,
        "start_time": "2022-07-06T07:32:19.026Z"
      },
      {
        "duration": 16,
        "start_time": "2022-07-06T07:32:19.039Z"
      },
      {
        "duration": 33,
        "start_time": "2022-07-06T07:32:19.057Z"
      },
      {
        "duration": 174,
        "start_time": "2022-07-06T07:32:19.091Z"
      },
      {
        "duration": 193,
        "start_time": "2022-07-06T07:32:19.267Z"
      },
      {
        "duration": 3,
        "start_time": "2022-07-06T07:32:19.462Z"
      },
      {
        "duration": 87,
        "start_time": "2022-07-06T07:32:19.466Z"
      },
      {
        "duration": 6,
        "start_time": "2022-07-06T07:32:19.555Z"
      },
      {
        "duration": 89,
        "start_time": "2022-07-06T07:32:19.564Z"
      },
      {
        "duration": 8,
        "start_time": "2022-07-06T07:32:19.654Z"
      },
      {
        "duration": 1485,
        "start_time": "2022-07-06T07:32:19.663Z"
      },
      {
        "duration": 1540,
        "start_time": "2022-07-06T07:32:21.151Z"
      },
      {
        "duration": 1543,
        "start_time": "2022-07-06T07:32:22.693Z"
      },
      {
        "duration": 186,
        "start_time": "2022-07-06T07:32:45.714Z"
      },
      {
        "duration": 86,
        "start_time": "2022-07-06T07:32:54.720Z"
      },
      {
        "duration": 98,
        "start_time": "2022-07-06T07:33:00.790Z"
      },
      {
        "duration": 173,
        "start_time": "2022-07-06T07:34:57.298Z"
      },
      {
        "duration": 235,
        "start_time": "2022-07-06T07:36:54.996Z"
      },
      {
        "duration": 196,
        "start_time": "2022-07-06T07:37:04.188Z"
      },
      {
        "duration": 211,
        "start_time": "2022-07-06T07:37:09.835Z"
      },
      {
        "duration": 214,
        "start_time": "2022-07-06T07:37:20.052Z"
      },
      {
        "duration": 203,
        "start_time": "2022-07-06T07:37:21.324Z"
      },
      {
        "duration": 194,
        "start_time": "2022-07-06T07:38:08.206Z"
      },
      {
        "duration": 188,
        "start_time": "2022-07-06T07:38:12.293Z"
      },
      {
        "duration": 280,
        "start_time": "2022-07-06T07:38:16.213Z"
      },
      {
        "duration": 216,
        "start_time": "2022-07-06T07:38:20.381Z"
      },
      {
        "duration": 4,
        "start_time": "2022-07-06T08:11:23.565Z"
      },
      {
        "duration": 1733,
        "start_time": "2022-07-06T08:11:43.741Z"
      },
      {
        "duration": 1964,
        "start_time": "2022-07-06T08:11:54.606Z"
      },
      {
        "duration": 1735,
        "start_time": "2022-07-06T08:11:58.485Z"
      },
      {
        "duration": 206,
        "start_time": "2022-07-06T08:12:23.070Z"
      },
      {
        "duration": 194,
        "start_time": "2022-07-06T08:12:24.285Z"
      },
      {
        "duration": 203,
        "start_time": "2022-07-06T08:12:25.382Z"
      },
      {
        "duration": 8,
        "start_time": "2022-07-06T08:29:36.071Z"
      },
      {
        "duration": 1701,
        "start_time": "2022-07-06T08:29:38.509Z"
      },
      {
        "duration": 1677,
        "start_time": "2022-07-06T08:29:43.599Z"
      },
      {
        "duration": 1632,
        "start_time": "2022-07-06T08:29:50.756Z"
      },
      {
        "duration": 81,
        "start_time": "2022-07-06T08:34:37.385Z"
      },
      {
        "duration": 3,
        "start_time": "2022-07-06T08:34:47.883Z"
      },
      {
        "duration": 1503,
        "start_time": "2022-07-06T08:34:55.662Z"
      },
      {
        "duration": 409,
        "start_time": "2022-07-06T08:34:57.168Z"
      },
      {
        "duration": 15,
        "start_time": "2022-07-06T08:34:57.579Z"
      },
      {
        "duration": 13,
        "start_time": "2022-07-06T08:34:57.596Z"
      },
      {
        "duration": 9,
        "start_time": "2022-07-06T08:34:57.611Z"
      },
      {
        "duration": 32,
        "start_time": "2022-07-06T08:34:57.621Z"
      },
      {
        "duration": 11,
        "start_time": "2022-07-06T08:34:57.654Z"
      },
      {
        "duration": 24,
        "start_time": "2022-07-06T08:34:57.666Z"
      },
      {
        "duration": 201,
        "start_time": "2022-07-06T08:34:57.692Z"
      },
      {
        "duration": 224,
        "start_time": "2022-07-06T08:34:57.895Z"
      },
      {
        "duration": 225,
        "start_time": "2022-07-06T08:34:58.121Z"
      },
      {
        "duration": 22,
        "start_time": "2022-07-06T08:34:58.347Z"
      },
      {
        "duration": 6,
        "start_time": "2022-07-06T08:34:58.371Z"
      },
      {
        "duration": 75,
        "start_time": "2022-07-06T08:34:58.379Z"
      },
      {
        "duration": 117,
        "start_time": "2022-07-06T08:34:58.457Z"
      },
      {
        "duration": 193,
        "start_time": "2022-07-06T08:34:58.577Z"
      },
      {
        "duration": 3,
        "start_time": "2022-07-06T08:34:58.772Z"
      },
      {
        "duration": 185,
        "start_time": "2022-07-06T08:34:58.777Z"
      },
      {
        "duration": 102,
        "start_time": "2022-07-06T08:34:58.965Z"
      },
      {
        "duration": 0,
        "start_time": "2022-07-06T08:34:59.069Z"
      },
      {
        "duration": 0,
        "start_time": "2022-07-06T08:34:59.071Z"
      },
      {
        "duration": 0,
        "start_time": "2022-07-06T08:34:59.072Z"
      },
      {
        "duration": 0,
        "start_time": "2022-07-06T08:34:59.073Z"
      },
      {
        "duration": 0,
        "start_time": "2022-07-06T08:34:59.074Z"
      },
      {
        "duration": 0,
        "start_time": "2022-07-06T08:34:59.076Z"
      },
      {
        "duration": 156,
        "start_time": "2022-07-06T08:36:08.109Z"
      },
      {
        "duration": 86,
        "start_time": "2022-07-06T08:36:20.293Z"
      },
      {
        "duration": 115,
        "start_time": "2022-07-06T08:37:51.743Z"
      },
      {
        "duration": 3,
        "start_time": "2022-07-06T08:38:00.888Z"
      },
      {
        "duration": 5,
        "start_time": "2022-07-06T08:39:18.608Z"
      },
      {
        "duration": 1373,
        "start_time": "2022-07-06T08:39:37.930Z"
      },
      {
        "duration": 369,
        "start_time": "2022-07-06T08:39:39.305Z"
      },
      {
        "duration": 15,
        "start_time": "2022-07-06T08:39:39.675Z"
      },
      {
        "duration": 16,
        "start_time": "2022-07-06T08:39:39.693Z"
      },
      {
        "duration": 10,
        "start_time": "2022-07-06T08:39:39.711Z"
      },
      {
        "duration": 38,
        "start_time": "2022-07-06T08:39:39.723Z"
      },
      {
        "duration": 17,
        "start_time": "2022-07-06T08:39:39.763Z"
      },
      {
        "duration": 18,
        "start_time": "2022-07-06T08:39:39.783Z"
      },
      {
        "duration": 223,
        "start_time": "2022-07-06T08:39:39.803Z"
      },
      {
        "duration": 222,
        "start_time": "2022-07-06T08:39:40.030Z"
      },
      {
        "duration": 219,
        "start_time": "2022-07-06T08:39:40.254Z"
      },
      {
        "duration": 13,
        "start_time": "2022-07-06T08:39:40.476Z"
      },
      {
        "duration": 9,
        "start_time": "2022-07-06T08:39:40.491Z"
      },
      {
        "duration": 66,
        "start_time": "2022-07-06T08:39:40.502Z"
      },
      {
        "duration": 111,
        "start_time": "2022-07-06T08:39:40.570Z"
      },
      {
        "duration": 173,
        "start_time": "2022-07-06T08:39:40.683Z"
      },
      {
        "duration": 119,
        "start_time": "2022-07-06T08:39:40.858Z"
      },
      {
        "duration": 7,
        "start_time": "2022-07-06T08:39:40.978Z"
      },
      {
        "duration": 4,
        "start_time": "2022-07-06T08:39:40.987Z"
      },
      {
        "duration": 66,
        "start_time": "2022-07-06T08:39:40.993Z"
      },
      {
        "duration": 3,
        "start_time": "2022-07-06T08:39:41.061Z"
      },
      {
        "duration": 6,
        "start_time": "2022-07-06T08:39:41.065Z"
      },
      {
        "duration": 7,
        "start_time": "2022-07-06T08:39:41.072Z"
      },
      {
        "duration": 115,
        "start_time": "2022-07-06T08:39:41.080Z"
      },
      {
        "duration": 0,
        "start_time": "2022-07-06T08:39:41.197Z"
      },
      {
        "duration": 0,
        "start_time": "2022-07-06T08:39:41.198Z"
      },
      {
        "duration": 14,
        "start_time": "2022-07-06T08:41:13.494Z"
      },
      {
        "duration": 15,
        "start_time": "2022-07-06T08:41:43.918Z"
      },
      {
        "duration": 219,
        "start_time": "2022-07-06T08:44:30.129Z"
      },
      {
        "duration": 2,
        "start_time": "2022-07-06T08:44:45.183Z"
      },
      {
        "duration": 1514,
        "start_time": "2022-07-06T08:44:54.495Z"
      },
      {
        "duration": 457,
        "start_time": "2022-07-06T08:44:56.014Z"
      },
      {
        "duration": 13,
        "start_time": "2022-07-06T08:44:56.473Z"
      },
      {
        "duration": 18,
        "start_time": "2022-07-06T08:44:56.488Z"
      },
      {
        "duration": 10,
        "start_time": "2022-07-06T08:44:56.508Z"
      },
      {
        "duration": 47,
        "start_time": "2022-07-06T08:44:56.519Z"
      },
      {
        "duration": 24,
        "start_time": "2022-07-06T08:44:56.568Z"
      },
      {
        "duration": 31,
        "start_time": "2022-07-06T08:44:56.594Z"
      },
      {
        "duration": 264,
        "start_time": "2022-07-06T08:44:56.627Z"
      },
      {
        "duration": 242,
        "start_time": "2022-07-06T08:44:56.894Z"
      },
      {
        "duration": 269,
        "start_time": "2022-07-06T08:44:57.139Z"
      },
      {
        "duration": 15,
        "start_time": "2022-07-06T08:44:57.409Z"
      },
      {
        "duration": 14,
        "start_time": "2022-07-06T08:44:57.425Z"
      },
      {
        "duration": 58,
        "start_time": "2022-07-06T08:44:57.441Z"
      },
      {
        "duration": 251,
        "start_time": "2022-07-06T08:44:57.500Z"
      },
      {
        "duration": 205,
        "start_time": "2022-07-06T08:44:57.754Z"
      },
      {
        "duration": 9,
        "start_time": "2022-07-06T08:44:57.961Z"
      },
      {
        "duration": 90,
        "start_time": "2022-07-06T08:44:57.972Z"
      },
      {
        "duration": 6,
        "start_time": "2022-07-06T08:44:58.064Z"
      },
      {
        "duration": 8,
        "start_time": "2022-07-06T08:44:58.072Z"
      },
      {
        "duration": 8,
        "start_time": "2022-07-06T08:44:58.082Z"
      },
      {
        "duration": 13,
        "start_time": "2022-07-06T08:44:58.092Z"
      },
      {
        "duration": 1674,
        "start_time": "2022-07-06T08:44:58.106Z"
      },
      {
        "duration": 1767,
        "start_time": "2022-07-06T08:44:59.782Z"
      },
      {
        "duration": 1674,
        "start_time": "2022-07-06T08:45:01.551Z"
      },
      {
        "duration": 7,
        "start_time": "2022-07-06T08:46:38.079Z"
      },
      {
        "duration": 1618,
        "start_time": "2022-07-06T08:46:40.774Z"
      },
      {
        "duration": 8,
        "start_time": "2022-07-06T08:47:16.610Z"
      },
      {
        "duration": 1704,
        "start_time": "2022-07-06T08:47:18.896Z"
      },
      {
        "duration": 1749,
        "start_time": "2022-07-06T08:47:24.240Z"
      },
      {
        "duration": 1829,
        "start_time": "2022-07-06T08:47:32.746Z"
      },
      {
        "duration": 1493,
        "start_time": "2022-07-06T08:47:57.419Z"
      },
      {
        "duration": 416,
        "start_time": "2022-07-06T08:47:58.914Z"
      },
      {
        "duration": 14,
        "start_time": "2022-07-06T08:47:59.332Z"
      },
      {
        "duration": 55,
        "start_time": "2022-07-06T08:47:59.347Z"
      },
      {
        "duration": 15,
        "start_time": "2022-07-06T08:47:59.404Z"
      },
      {
        "duration": 20,
        "start_time": "2022-07-06T08:47:59.420Z"
      },
      {
        "duration": 8,
        "start_time": "2022-07-06T08:47:59.442Z"
      },
      {
        "duration": 37,
        "start_time": "2022-07-06T08:47:59.452Z"
      },
      {
        "duration": 213,
        "start_time": "2022-07-06T08:47:59.491Z"
      },
      {
        "duration": 240,
        "start_time": "2022-07-06T08:47:59.706Z"
      },
      {
        "duration": 226,
        "start_time": "2022-07-06T08:47:59.947Z"
      },
      {
        "duration": 15,
        "start_time": "2022-07-06T08:48:00.175Z"
      },
      {
        "duration": 26,
        "start_time": "2022-07-06T08:48:00.192Z"
      },
      {
        "duration": 84,
        "start_time": "2022-07-06T08:48:00.220Z"
      },
      {
        "duration": 191,
        "start_time": "2022-07-06T08:48:00.306Z"
      },
      {
        "duration": 180,
        "start_time": "2022-07-06T08:48:00.499Z"
      },
      {
        "duration": 191,
        "start_time": "2022-07-06T08:48:00.681Z"
      },
      {
        "duration": 15,
        "start_time": "2022-07-06T08:48:00.873Z"
      },
      {
        "duration": 8,
        "start_time": "2022-07-06T08:48:00.890Z"
      },
      {
        "duration": 15,
        "start_time": "2022-07-06T08:48:00.900Z"
      },
      {
        "duration": 18,
        "start_time": "2022-07-06T08:48:00.917Z"
      },
      {
        "duration": 8,
        "start_time": "2022-07-06T08:48:00.936Z"
      },
      {
        "duration": 1683,
        "start_time": "2022-07-06T08:48:00.945Z"
      },
      {
        "duration": 1830,
        "start_time": "2022-07-06T08:48:02.630Z"
      },
      {
        "duration": 1826,
        "start_time": "2022-07-06T08:48:04.462Z"
      },
      {
        "duration": 1585,
        "start_time": "2022-10-14T07:54:01.100Z"
      },
      {
        "duration": 786,
        "start_time": "2022-10-14T07:54:02.687Z"
      },
      {
        "duration": 17,
        "start_time": "2022-10-14T07:54:03.475Z"
      },
      {
        "duration": 23,
        "start_time": "2022-10-14T07:54:03.495Z"
      },
      {
        "duration": 14,
        "start_time": "2022-10-14T07:54:03.520Z"
      },
      {
        "duration": 24,
        "start_time": "2022-10-14T07:54:03.536Z"
      },
      {
        "duration": 8,
        "start_time": "2022-10-14T07:54:03.562Z"
      },
      {
        "duration": 16,
        "start_time": "2022-10-14T07:54:03.572Z"
      },
      {
        "duration": 198,
        "start_time": "2022-10-14T07:54:03.589Z"
      },
      {
        "duration": 237,
        "start_time": "2022-10-14T07:54:03.788Z"
      },
      {
        "duration": 261,
        "start_time": "2022-10-14T07:54:04.027Z"
      },
      {
        "duration": 18,
        "start_time": "2022-10-14T07:54:04.291Z"
      },
      {
        "duration": 23,
        "start_time": "2022-10-14T07:54:04.310Z"
      },
      {
        "duration": 49,
        "start_time": "2022-10-14T07:54:21.458Z"
      },
      {
        "duration": 4,
        "start_time": "2022-10-14T07:54:49.534Z"
      },
      {
        "duration": 24,
        "start_time": "2022-10-14T07:54:51.134Z"
      },
      {
        "duration": 25,
        "start_time": "2022-10-14T07:54:52.947Z"
      },
      {
        "duration": 23,
        "start_time": "2022-10-14T07:54:53.756Z"
      }
    ],
    "kernelspec": {
      "display_name": "Python 3 (ipykernel)",
      "language": "python",
      "name": "python3"
    },
    "language_info": {
      "codemirror_mode": {
        "name": "ipython",
        "version": 3
      },
      "file_extension": ".py",
      "mimetype": "text/x-python",
      "name": "python",
      "nbconvert_exporter": "python",
      "pygments_lexer": "ipython3",
      "version": "3.9.5"
    },
    "toc": {
      "base_numbering": 1,
      "nav_menu": {},
      "number_sections": true,
      "sideBar": true,
      "skip_h1_title": true,
      "title_cell": "Table of Contents",
      "title_sidebar": "Contents",
      "toc_cell": false,
      "toc_position": {},
      "toc_section_display": true,
      "toc_window_display": true
    },
    "colab": {
      "provenance": [],
      "collapsed_sections": [],
      "toc_visible": true
    }
  },
  "nbformat": 4,
  "nbformat_minor": 0
}